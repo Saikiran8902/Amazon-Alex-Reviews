{
 "cells": [
  {
   "cell_type": "code",
   "execution_count": 1,
   "id": "2cedebf5",
   "metadata": {},
   "outputs": [],
   "source": [
    "import numpy as np\n",
    "import pandas as pd\n",
    "import seaborn as sns\n",
    "import matplotlib.pyplot as plt"
   ]
  },
  {
   "cell_type": "code",
   "execution_count": 2,
   "id": "92180ecf",
   "metadata": {},
   "outputs": [
    {
     "data": {
      "text/plain": [
       "(3150, 6)"
      ]
     },
     "execution_count": 2,
     "metadata": {},
     "output_type": "execute_result"
    }
   ],
   "source": [
    "data=pd.read_csv(r'amazon_alexa_data.csv')\n",
    "data.shape"
   ]
  },
  {
   "cell_type": "code",
   "execution_count": 3,
   "id": "746104ec",
   "metadata": {},
   "outputs": [
    {
     "name": "stdout",
     "output_type": "stream",
     "text": [
      "<class 'pandas.core.frame.DataFrame'>\n",
      "RangeIndex: 3150 entries, 0 to 3149\n",
      "Data columns (total 6 columns):\n",
      " #   Column            Non-Null Count  Dtype \n",
      "---  ------            --------------  ----- \n",
      " 0   wer               3150 non-null   int64 \n",
      " 1   rating            3150 non-null   int64 \n",
      " 2   date              3150 non-null   object\n",
      " 3   variation         3150 non-null   object\n",
      " 4   verified_reviews  3150 non-null   object\n",
      " 5   feedback          3150 non-null   int64 \n",
      "dtypes: int64(3), object(3)\n",
      "memory usage: 147.8+ KB\n"
     ]
    }
   ],
   "source": [
    "data.info()"
   ]
  },
  {
   "cell_type": "code",
   "execution_count": 4,
   "id": "9db1f0b3",
   "metadata": {},
   "outputs": [],
   "source": [
    "del data['wer']"
   ]
  },
  {
   "cell_type": "code",
   "execution_count": 5,
   "id": "48c4f017",
   "metadata": {},
   "outputs": [
    {
     "data": {
      "text/html": [
       "<div>\n",
       "<style scoped>\n",
       "    .dataframe tbody tr th:only-of-type {\n",
       "        vertical-align: middle;\n",
       "    }\n",
       "\n",
       "    .dataframe tbody tr th {\n",
       "        vertical-align: top;\n",
       "    }\n",
       "\n",
       "    .dataframe thead th {\n",
       "        text-align: right;\n",
       "    }\n",
       "</style>\n",
       "<table border=\"1\" class=\"dataframe\">\n",
       "  <thead>\n",
       "    <tr style=\"text-align: right;\">\n",
       "      <th></th>\n",
       "      <th>rating</th>\n",
       "      <th>date</th>\n",
       "      <th>variation</th>\n",
       "      <th>verified_reviews</th>\n",
       "      <th>feedback</th>\n",
       "    </tr>\n",
       "  </thead>\n",
       "  <tbody>\n",
       "    <tr>\n",
       "      <th>0</th>\n",
       "      <td>5</td>\n",
       "      <td>31-Jul-18</td>\n",
       "      <td>Charcoal Fabric</td>\n",
       "      <td>Love my Echo!</td>\n",
       "      <td>1</td>\n",
       "    </tr>\n",
       "    <tr>\n",
       "      <th>1</th>\n",
       "      <td>5</td>\n",
       "      <td>31-Jul-18</td>\n",
       "      <td>Charcoal Fabric</td>\n",
       "      <td>Loved it!</td>\n",
       "      <td>1</td>\n",
       "    </tr>\n",
       "    <tr>\n",
       "      <th>2</th>\n",
       "      <td>4</td>\n",
       "      <td>31-Jul-18</td>\n",
       "      <td>Walnut Finish</td>\n",
       "      <td>Sometimes while playing a game, you can answer...</td>\n",
       "      <td>1</td>\n",
       "    </tr>\n",
       "    <tr>\n",
       "      <th>3</th>\n",
       "      <td>5</td>\n",
       "      <td>31-Jul-18</td>\n",
       "      <td>Charcoal Fabric</td>\n",
       "      <td>I have had a lot of fun with this thing. My 4 ...</td>\n",
       "      <td>1</td>\n",
       "    </tr>\n",
       "    <tr>\n",
       "      <th>4</th>\n",
       "      <td>5</td>\n",
       "      <td>31-Jul-18</td>\n",
       "      <td>Charcoal Fabric</td>\n",
       "      <td>Music</td>\n",
       "      <td>1</td>\n",
       "    </tr>\n",
       "  </tbody>\n",
       "</table>\n",
       "</div>"
      ],
      "text/plain": [
       "   rating       date         variation  \\\n",
       "0       5  31-Jul-18  Charcoal Fabric    \n",
       "1       5  31-Jul-18  Charcoal Fabric    \n",
       "2       4  31-Jul-18    Walnut Finish    \n",
       "3       5  31-Jul-18  Charcoal Fabric    \n",
       "4       5  31-Jul-18  Charcoal Fabric    \n",
       "\n",
       "                                    verified_reviews  feedback  \n",
       "0                                      Love my Echo!         1  \n",
       "1                                          Loved it!         1  \n",
       "2  Sometimes while playing a game, you can answer...         1  \n",
       "3  I have had a lot of fun with this thing. My 4 ...         1  \n",
       "4                                              Music         1  "
      ]
     },
     "execution_count": 5,
     "metadata": {},
     "output_type": "execute_result"
    }
   ],
   "source": [
    "data.head()"
   ]
  },
  {
   "cell_type": "code",
   "execution_count": 6,
   "id": "dcc8dcdb",
   "metadata": {},
   "outputs": [
    {
     "data": {
      "text/html": [
       "<div>\n",
       "<style scoped>\n",
       "    .dataframe tbody tr th:only-of-type {\n",
       "        vertical-align: middle;\n",
       "    }\n",
       "\n",
       "    .dataframe tbody tr th {\n",
       "        vertical-align: top;\n",
       "    }\n",
       "\n",
       "    .dataframe thead th {\n",
       "        text-align: right;\n",
       "    }\n",
       "</style>\n",
       "<table border=\"1\" class=\"dataframe\">\n",
       "  <thead>\n",
       "    <tr style=\"text-align: right;\">\n",
       "      <th></th>\n",
       "      <th>rating</th>\n",
       "      <th>date</th>\n",
       "      <th>variation</th>\n",
       "      <th>verified_reviews</th>\n",
       "      <th>feedback</th>\n",
       "    </tr>\n",
       "  </thead>\n",
       "  <tbody>\n",
       "    <tr>\n",
       "      <th>3145</th>\n",
       "      <td>5</td>\n",
       "      <td>30-Jul-18</td>\n",
       "      <td>Black  Dot</td>\n",
       "      <td>Perfect for kids, adults and everyone in betwe...</td>\n",
       "      <td>1</td>\n",
       "    </tr>\n",
       "    <tr>\n",
       "      <th>3146</th>\n",
       "      <td>5</td>\n",
       "      <td>30-Jul-18</td>\n",
       "      <td>Black  Dot</td>\n",
       "      <td>Listening to music, searching locations, check...</td>\n",
       "      <td>1</td>\n",
       "    </tr>\n",
       "    <tr>\n",
       "      <th>3147</th>\n",
       "      <td>5</td>\n",
       "      <td>30-Jul-18</td>\n",
       "      <td>Black  Dot</td>\n",
       "      <td>I do love these things, i have them running my...</td>\n",
       "      <td>1</td>\n",
       "    </tr>\n",
       "    <tr>\n",
       "      <th>3148</th>\n",
       "      <td>5</td>\n",
       "      <td>30-Jul-18</td>\n",
       "      <td>White  Dot</td>\n",
       "      <td>Only complaint I have is that the sound qualit...</td>\n",
       "      <td>1</td>\n",
       "    </tr>\n",
       "    <tr>\n",
       "      <th>3149</th>\n",
       "      <td>4</td>\n",
       "      <td>29-Jul-18</td>\n",
       "      <td>Black  Dot</td>\n",
       "      <td>Good</td>\n",
       "      <td>1</td>\n",
       "    </tr>\n",
       "  </tbody>\n",
       "</table>\n",
       "</div>"
      ],
      "text/plain": [
       "      rating       date   variation  \\\n",
       "3145       5  30-Jul-18  Black  Dot   \n",
       "3146       5  30-Jul-18  Black  Dot   \n",
       "3147       5  30-Jul-18  Black  Dot   \n",
       "3148       5  30-Jul-18  White  Dot   \n",
       "3149       4  29-Jul-18  Black  Dot   \n",
       "\n",
       "                                       verified_reviews  feedback  \n",
       "3145  Perfect for kids, adults and everyone in betwe...         1  \n",
       "3146  Listening to music, searching locations, check...         1  \n",
       "3147  I do love these things, i have them running my...         1  \n",
       "3148  Only complaint I have is that the sound qualit...         1  \n",
       "3149                                               Good         1  "
      ]
     },
     "execution_count": 6,
     "metadata": {},
     "output_type": "execute_result"
    }
   ],
   "source": [
    "data.tail()"
   ]
  },
  {
   "cell_type": "code",
   "execution_count": 7,
   "id": "8c6ccb1d",
   "metadata": {},
   "outputs": [
    {
     "data": {
      "text/plain": [
       "rating              False\n",
       "date                False\n",
       "variation           False\n",
       "verified_reviews    False\n",
       "feedback            False\n",
       "dtype: bool"
      ]
     },
     "execution_count": 7,
     "metadata": {},
     "output_type": "execute_result"
    }
   ],
   "source": [
    "data.isnull().any()"
   ]
  },
  {
   "cell_type": "code",
   "execution_count": 8,
   "id": "a7cf617b",
   "metadata": {},
   "outputs": [
    {
     "data": {
      "text/html": [
       "<div>\n",
       "<style scoped>\n",
       "    .dataframe tbody tr th:only-of-type {\n",
       "        vertical-align: middle;\n",
       "    }\n",
       "\n",
       "    .dataframe tbody tr th {\n",
       "        vertical-align: top;\n",
       "    }\n",
       "\n",
       "    .dataframe thead th {\n",
       "        text-align: right;\n",
       "    }\n",
       "</style>\n",
       "<table border=\"1\" class=\"dataframe\">\n",
       "  <thead>\n",
       "    <tr style=\"text-align: right;\">\n",
       "      <th></th>\n",
       "      <th>rating</th>\n",
       "      <th>feedback</th>\n",
       "    </tr>\n",
       "  </thead>\n",
       "  <tbody>\n",
       "    <tr>\n",
       "      <th>count</th>\n",
       "      <td>3150.000000</td>\n",
       "      <td>3150.000000</td>\n",
       "    </tr>\n",
       "    <tr>\n",
       "      <th>mean</th>\n",
       "      <td>4.463175</td>\n",
       "      <td>0.918413</td>\n",
       "    </tr>\n",
       "    <tr>\n",
       "      <th>std</th>\n",
       "      <td>1.068506</td>\n",
       "      <td>0.273778</td>\n",
       "    </tr>\n",
       "    <tr>\n",
       "      <th>min</th>\n",
       "      <td>1.000000</td>\n",
       "      <td>0.000000</td>\n",
       "    </tr>\n",
       "    <tr>\n",
       "      <th>25%</th>\n",
       "      <td>4.000000</td>\n",
       "      <td>1.000000</td>\n",
       "    </tr>\n",
       "    <tr>\n",
       "      <th>50%</th>\n",
       "      <td>5.000000</td>\n",
       "      <td>1.000000</td>\n",
       "    </tr>\n",
       "    <tr>\n",
       "      <th>75%</th>\n",
       "      <td>5.000000</td>\n",
       "      <td>1.000000</td>\n",
       "    </tr>\n",
       "    <tr>\n",
       "      <th>max</th>\n",
       "      <td>5.000000</td>\n",
       "      <td>1.000000</td>\n",
       "    </tr>\n",
       "  </tbody>\n",
       "</table>\n",
       "</div>"
      ],
      "text/plain": [
       "            rating     feedback\n",
       "count  3150.000000  3150.000000\n",
       "mean      4.463175     0.918413\n",
       "std       1.068506     0.273778\n",
       "min       1.000000     0.000000\n",
       "25%       4.000000     1.000000\n",
       "50%       5.000000     1.000000\n",
       "75%       5.000000     1.000000\n",
       "max       5.000000     1.000000"
      ]
     },
     "execution_count": 8,
     "metadata": {},
     "output_type": "execute_result"
    }
   ],
   "source": [
    "data.describe()"
   ]
  },
  {
   "cell_type": "code",
   "execution_count": 9,
   "id": "857583aa",
   "metadata": {},
   "outputs": [
    {
     "data": {
      "text/plain": [
       "(3150, 6)"
      ]
     },
     "execution_count": 9,
     "metadata": {},
     "output_type": "execute_result"
    }
   ],
   "source": [
    "data['length']=data['verified_reviews'].apply(len)\n",
    "data.shape"
   ]
  },
  {
   "cell_type": "code",
   "execution_count": 10,
   "id": "f14dada7",
   "metadata": {},
   "outputs": [
    {
     "data": {
      "text/html": [
       "<div>\n",
       "<style scoped>\n",
       "    .dataframe tbody tr th:only-of-type {\n",
       "        vertical-align: middle;\n",
       "    }\n",
       "\n",
       "    .dataframe tbody tr th {\n",
       "        vertical-align: top;\n",
       "    }\n",
       "\n",
       "    .dataframe thead th {\n",
       "        text-align: right;\n",
       "    }\n",
       "</style>\n",
       "<table border=\"1\" class=\"dataframe\">\n",
       "  <thead>\n",
       "    <tr style=\"text-align: right;\">\n",
       "      <th></th>\n",
       "      <th>rating</th>\n",
       "      <th>date</th>\n",
       "      <th>variation</th>\n",
       "      <th>verified_reviews</th>\n",
       "      <th>feedback</th>\n",
       "      <th>length</th>\n",
       "    </tr>\n",
       "  </thead>\n",
       "  <tbody>\n",
       "    <tr>\n",
       "      <th>0</th>\n",
       "      <td>5</td>\n",
       "      <td>31-Jul-18</td>\n",
       "      <td>Charcoal Fabric</td>\n",
       "      <td>Love my Echo!</td>\n",
       "      <td>1</td>\n",
       "      <td>13</td>\n",
       "    </tr>\n",
       "    <tr>\n",
       "      <th>1</th>\n",
       "      <td>5</td>\n",
       "      <td>31-Jul-18</td>\n",
       "      <td>Charcoal Fabric</td>\n",
       "      <td>Loved it!</td>\n",
       "      <td>1</td>\n",
       "      <td>9</td>\n",
       "    </tr>\n",
       "    <tr>\n",
       "      <th>2</th>\n",
       "      <td>4</td>\n",
       "      <td>31-Jul-18</td>\n",
       "      <td>Walnut Finish</td>\n",
       "      <td>Sometimes while playing a game, you can answer...</td>\n",
       "      <td>1</td>\n",
       "      <td>195</td>\n",
       "    </tr>\n",
       "    <tr>\n",
       "      <th>3</th>\n",
       "      <td>5</td>\n",
       "      <td>31-Jul-18</td>\n",
       "      <td>Charcoal Fabric</td>\n",
       "      <td>I have had a lot of fun with this thing. My 4 ...</td>\n",
       "      <td>1</td>\n",
       "      <td>172</td>\n",
       "    </tr>\n",
       "    <tr>\n",
       "      <th>4</th>\n",
       "      <td>5</td>\n",
       "      <td>31-Jul-18</td>\n",
       "      <td>Charcoal Fabric</td>\n",
       "      <td>Music</td>\n",
       "      <td>1</td>\n",
       "      <td>5</td>\n",
       "    </tr>\n",
       "  </tbody>\n",
       "</table>\n",
       "</div>"
      ],
      "text/plain": [
       "   rating       date         variation  \\\n",
       "0       5  31-Jul-18  Charcoal Fabric    \n",
       "1       5  31-Jul-18  Charcoal Fabric    \n",
       "2       4  31-Jul-18    Walnut Finish    \n",
       "3       5  31-Jul-18  Charcoal Fabric    \n",
       "4       5  31-Jul-18  Charcoal Fabric    \n",
       "\n",
       "                                    verified_reviews  feedback  length  \n",
       "0                                      Love my Echo!         1      13  \n",
       "1                                          Loved it!         1       9  \n",
       "2  Sometimes while playing a game, you can answer...         1     195  \n",
       "3  I have had a lot of fun with this thing. My 4 ...         1     172  \n",
       "4                                              Music         1       5  "
      ]
     },
     "execution_count": 10,
     "metadata": {},
     "output_type": "execute_result"
    }
   ],
   "source": [
    "data.head()"
   ]
  },
  {
   "cell_type": "code",
   "execution_count": 11,
   "id": "ed665950",
   "metadata": {},
   "outputs": [
    {
     "data": {
      "text/html": [
       "<div>\n",
       "<style scoped>\n",
       "    .dataframe tbody tr th:only-of-type {\n",
       "        vertical-align: middle;\n",
       "    }\n",
       "\n",
       "    .dataframe tbody tr th {\n",
       "        vertical-align: top;\n",
       "    }\n",
       "\n",
       "    .dataframe thead tr th {\n",
       "        text-align: left;\n",
       "    }\n",
       "\n",
       "    .dataframe thead tr:last-of-type th {\n",
       "        text-align: right;\n",
       "    }\n",
       "</style>\n",
       "<table border=\"1\" class=\"dataframe\">\n",
       "  <thead>\n",
       "    <tr>\n",
       "      <th></th>\n",
       "      <th colspan=\"8\" halign=\"left\">feedback</th>\n",
       "      <th colspan=\"8\" halign=\"left\">length</th>\n",
       "    </tr>\n",
       "    <tr>\n",
       "      <th></th>\n",
       "      <th>count</th>\n",
       "      <th>mean</th>\n",
       "      <th>std</th>\n",
       "      <th>min</th>\n",
       "      <th>25%</th>\n",
       "      <th>50%</th>\n",
       "      <th>75%</th>\n",
       "      <th>max</th>\n",
       "      <th>count</th>\n",
       "      <th>mean</th>\n",
       "      <th>std</th>\n",
       "      <th>min</th>\n",
       "      <th>25%</th>\n",
       "      <th>50%</th>\n",
       "      <th>75%</th>\n",
       "      <th>max</th>\n",
       "    </tr>\n",
       "    <tr>\n",
       "      <th>rating</th>\n",
       "      <th></th>\n",
       "      <th></th>\n",
       "      <th></th>\n",
       "      <th></th>\n",
       "      <th></th>\n",
       "      <th></th>\n",
       "      <th></th>\n",
       "      <th></th>\n",
       "      <th></th>\n",
       "      <th></th>\n",
       "      <th></th>\n",
       "      <th></th>\n",
       "      <th></th>\n",
       "      <th></th>\n",
       "      <th></th>\n",
       "      <th></th>\n",
       "    </tr>\n",
       "  </thead>\n",
       "  <tbody>\n",
       "    <tr>\n",
       "      <th>1</th>\n",
       "      <td>161.0</td>\n",
       "      <td>0.0</td>\n",
       "      <td>0.0</td>\n",
       "      <td>0.0</td>\n",
       "      <td>0.0</td>\n",
       "      <td>0.0</td>\n",
       "      <td>0.0</td>\n",
       "      <td>0.0</td>\n",
       "      <td>161.0</td>\n",
       "      <td>195.000000</td>\n",
       "      <td>212.371226</td>\n",
       "      <td>1.0</td>\n",
       "      <td>36.00</td>\n",
       "      <td>120.0</td>\n",
       "      <td>284.00</td>\n",
       "      <td>1124.0</td>\n",
       "    </tr>\n",
       "    <tr>\n",
       "      <th>2</th>\n",
       "      <td>96.0</td>\n",
       "      <td>0.0</td>\n",
       "      <td>0.0</td>\n",
       "      <td>0.0</td>\n",
       "      <td>0.0</td>\n",
       "      <td>0.0</td>\n",
       "      <td>0.0</td>\n",
       "      <td>0.0</td>\n",
       "      <td>96.0</td>\n",
       "      <td>249.187500</td>\n",
       "      <td>269.595303</td>\n",
       "      <td>1.0</td>\n",
       "      <td>78.75</td>\n",
       "      <td>163.0</td>\n",
       "      <td>309.25</td>\n",
       "      <td>1686.0</td>\n",
       "    </tr>\n",
       "    <tr>\n",
       "      <th>3</th>\n",
       "      <td>152.0</td>\n",
       "      <td>1.0</td>\n",
       "      <td>0.0</td>\n",
       "      <td>1.0</td>\n",
       "      <td>1.0</td>\n",
       "      <td>1.0</td>\n",
       "      <td>1.0</td>\n",
       "      <td>1.0</td>\n",
       "      <td>152.0</td>\n",
       "      <td>207.296053</td>\n",
       "      <td>272.194706</td>\n",
       "      <td>1.0</td>\n",
       "      <td>54.00</td>\n",
       "      <td>130.0</td>\n",
       "      <td>284.00</td>\n",
       "      <td>1954.0</td>\n",
       "    </tr>\n",
       "    <tr>\n",
       "      <th>4</th>\n",
       "      <td>455.0</td>\n",
       "      <td>1.0</td>\n",
       "      <td>0.0</td>\n",
       "      <td>1.0</td>\n",
       "      <td>1.0</td>\n",
       "      <td>1.0</td>\n",
       "      <td>1.0</td>\n",
       "      <td>1.0</td>\n",
       "      <td>455.0</td>\n",
       "      <td>178.520879</td>\n",
       "      <td>215.927849</td>\n",
       "      <td>1.0</td>\n",
       "      <td>34.00</td>\n",
       "      <td>99.0</td>\n",
       "      <td>241.00</td>\n",
       "      <td>1360.0</td>\n",
       "    </tr>\n",
       "    <tr>\n",
       "      <th>5</th>\n",
       "      <td>2286.0</td>\n",
       "      <td>1.0</td>\n",
       "      <td>0.0</td>\n",
       "      <td>1.0</td>\n",
       "      <td>1.0</td>\n",
       "      <td>1.0</td>\n",
       "      <td>1.0</td>\n",
       "      <td>1.0</td>\n",
       "      <td>2286.0</td>\n",
       "      <td>108.444007</td>\n",
       "      <td>152.116387</td>\n",
       "      <td>1.0</td>\n",
       "      <td>26.00</td>\n",
       "      <td>64.0</td>\n",
       "      <td>135.00</td>\n",
       "      <td>2851.0</td>\n",
       "    </tr>\n",
       "  </tbody>\n",
       "</table>\n",
       "</div>"
      ],
      "text/plain": [
       "       feedback                                     length              \\\n",
       "          count mean  std  min  25%  50%  75%  max   count        mean   \n",
       "rating                                                                   \n",
       "1         161.0  0.0  0.0  0.0  0.0  0.0  0.0  0.0   161.0  195.000000   \n",
       "2          96.0  0.0  0.0  0.0  0.0  0.0  0.0  0.0    96.0  249.187500   \n",
       "3         152.0  1.0  0.0  1.0  1.0  1.0  1.0  1.0   152.0  207.296053   \n",
       "4         455.0  1.0  0.0  1.0  1.0  1.0  1.0  1.0   455.0  178.520879   \n",
       "5        2286.0  1.0  0.0  1.0  1.0  1.0  1.0  1.0  2286.0  108.444007   \n",
       "\n",
       "                                                       \n",
       "               std  min    25%    50%     75%     max  \n",
       "rating                                                 \n",
       "1       212.371226  1.0  36.00  120.0  284.00  1124.0  \n",
       "2       269.595303  1.0  78.75  163.0  309.25  1686.0  \n",
       "3       272.194706  1.0  54.00  130.0  284.00  1954.0  \n",
       "4       215.927849  1.0  34.00   99.0  241.00  1360.0  \n",
       "5       152.116387  1.0  26.00   64.0  135.00  2851.0  "
      ]
     },
     "execution_count": 11,
     "metadata": {},
     "output_type": "execute_result"
    }
   ],
   "source": [
    "data.groupby('rating').describe()"
   ]
  },
  {
   "cell_type": "code",
   "execution_count": 12,
   "id": "372e4374",
   "metadata": {},
   "outputs": [
    {
     "data": {
      "text/html": [
       "<div>\n",
       "<style scoped>\n",
       "    .dataframe tbody tr th:only-of-type {\n",
       "        vertical-align: middle;\n",
       "    }\n",
       "\n",
       "    .dataframe tbody tr th {\n",
       "        vertical-align: top;\n",
       "    }\n",
       "\n",
       "    .dataframe thead tr th {\n",
       "        text-align: left;\n",
       "    }\n",
       "\n",
       "    .dataframe thead tr:last-of-type th {\n",
       "        text-align: right;\n",
       "    }\n",
       "</style>\n",
       "<table border=\"1\" class=\"dataframe\">\n",
       "  <thead>\n",
       "    <tr>\n",
       "      <th></th>\n",
       "      <th colspan=\"8\" halign=\"left\">rating</th>\n",
       "      <th colspan=\"8\" halign=\"left\">length</th>\n",
       "    </tr>\n",
       "    <tr>\n",
       "      <th></th>\n",
       "      <th>count</th>\n",
       "      <th>mean</th>\n",
       "      <th>std</th>\n",
       "      <th>min</th>\n",
       "      <th>25%</th>\n",
       "      <th>50%</th>\n",
       "      <th>75%</th>\n",
       "      <th>max</th>\n",
       "      <th>count</th>\n",
       "      <th>mean</th>\n",
       "      <th>std</th>\n",
       "      <th>min</th>\n",
       "      <th>25%</th>\n",
       "      <th>50%</th>\n",
       "      <th>75%</th>\n",
       "      <th>max</th>\n",
       "    </tr>\n",
       "    <tr>\n",
       "      <th>feedback</th>\n",
       "      <th></th>\n",
       "      <th></th>\n",
       "      <th></th>\n",
       "      <th></th>\n",
       "      <th></th>\n",
       "      <th></th>\n",
       "      <th></th>\n",
       "      <th></th>\n",
       "      <th></th>\n",
       "      <th></th>\n",
       "      <th></th>\n",
       "      <th></th>\n",
       "      <th></th>\n",
       "      <th></th>\n",
       "      <th></th>\n",
       "      <th></th>\n",
       "    </tr>\n",
       "  </thead>\n",
       "  <tbody>\n",
       "    <tr>\n",
       "      <th>0</th>\n",
       "      <td>257.0</td>\n",
       "      <td>1.373541</td>\n",
       "      <td>0.484688</td>\n",
       "      <td>1.0</td>\n",
       "      <td>1.0</td>\n",
       "      <td>1.0</td>\n",
       "      <td>2.0</td>\n",
       "      <td>2.0</td>\n",
       "      <td>257.0</td>\n",
       "      <td>215.241245</td>\n",
       "      <td>236.325955</td>\n",
       "      <td>1.0</td>\n",
       "      <td>53.0</td>\n",
       "      <td>137.0</td>\n",
       "      <td>289.0</td>\n",
       "      <td>1686.0</td>\n",
       "    </tr>\n",
       "    <tr>\n",
       "      <th>1</th>\n",
       "      <td>2893.0</td>\n",
       "      <td>4.737643</td>\n",
       "      <td>0.546544</td>\n",
       "      <td>3.0</td>\n",
       "      <td>5.0</td>\n",
       "      <td>5.0</td>\n",
       "      <td>5.0</td>\n",
       "      <td>5.0</td>\n",
       "      <td>2893.0</td>\n",
       "      <td>124.659177</td>\n",
       "      <td>174.624491</td>\n",
       "      <td>1.0</td>\n",
       "      <td>29.0</td>\n",
       "      <td>69.0</td>\n",
       "      <td>154.0</td>\n",
       "      <td>2851.0</td>\n",
       "    </tr>\n",
       "  </tbody>\n",
       "</table>\n",
       "</div>"
      ],
      "text/plain": [
       "          rating                                               length  \\\n",
       "           count      mean       std  min  25%  50%  75%  max   count   \n",
       "feedback                                                                \n",
       "0          257.0  1.373541  0.484688  1.0  1.0  1.0  2.0  2.0   257.0   \n",
       "1         2893.0  4.737643  0.546544  3.0  5.0  5.0  5.0  5.0  2893.0   \n",
       "\n",
       "                                                                   \n",
       "                mean         std  min   25%    50%    75%     max  \n",
       "feedback                                                           \n",
       "0         215.241245  236.325955  1.0  53.0  137.0  289.0  1686.0  \n",
       "1         124.659177  174.624491  1.0  29.0   69.0  154.0  2851.0  "
      ]
     },
     "execution_count": 12,
     "metadata": {},
     "output_type": "execute_result"
    }
   ],
   "source": [
    "data.groupby('feedback').describe()"
   ]
  },
  {
   "cell_type": "code",
   "execution_count": 13,
   "id": "c6054776",
   "metadata": {},
   "outputs": [
    {
     "data": {
      "image/png": "[encoded data removed]",
      "text/plain": [
       "<Figure size 432x288 with 1 Axes>"
      ]
     },
     "metadata": {
      "needs_background": "light"
     },
     "output_type": "display_data"
    }
   ],
   "source": [
    "data['rating'].value_counts().plot.bar(color = 'magenta')\n",
    "plt.title('Visualizing the ratings dist.')\n",
    "plt.xlabel('ratings')\n",
    "plt.ylabel('count')\n",
    "plt.show()"
   ]
  },
  {
   "cell_type": "code",
   "execution_count": 14,
   "id": "fc1e67ca",
   "metadata": {},
   "outputs": [
    {
     "data": {
      "text/plain": [
       "5    2286\n",
       "4     455\n",
       "1     161\n",
       "3     152\n",
       "2      96\n",
       "Name: rating, dtype: int64"
      ]
     },
     "execution_count": 14,
     "metadata": {},
     "output_type": "execute_result"
    }
   ],
   "source": [
    "data['rating'].value_counts()"
   ]
  },
  {
   "cell_type": "code",
   "execution_count": 15,
   "id": "179baa8a",
   "metadata": {},
   "outputs": [
    {
     "data": {
      "image/png": "[encoded data removed]",
      "text/plain": [
       "<Figure size 432x288 with 1 Axes>"
      ]
     },
     "metadata": {},
     "output_type": "display_data"
    }
   ],
   "source": [
    "labels = '5', '4', '3', '2', '1'\n",
    "sizes = [2286, 455, 161, 152, 96]\n",
    "colors = ['cyan', 'magenta', 'pink', 'yellow', 'red']\n",
    "explode = [0.001, 0.001, 0.001, 0.001, 0.001]\n",
    "\n",
    "plt.pie(sizes, labels = labels, colors = colors, explode = explode, shadow = True)\n",
    "plt.title(' pie chart representing ratings occuposition')\n",
    "plt.show()"
   ]
  },
  {
   "cell_type": "code",
   "execution_count": 16,
   "id": "f72d3ade",
   "metadata": {},
   "outputs": [
    {
     "data": {
      "image/png": "[encoded data removed]",
      "text/plain": [
       "<Figure size 792x504 with 1 Axes>"
      ]
     },
     "metadata": {
      "needs_background": "light"
     },
     "output_type": "display_data"
    }
   ],
   "source": [
    "data['variation'].value_counts().plot.bar(color = 'cyan', figsize = (11, 7))\n",
    "plt.grid(True)\n",
    "plt.title('Visualizing the variations dist.')\n",
    "plt.xlabel('variations')\n",
    "plt.ylabel('count')\n",
    "plt.show()"
   ]
  },
  {
   "cell_type": "code",
   "execution_count": 17,
   "id": "0605753c",
   "metadata": {},
   "outputs": [
    {
     "data": {
      "image/png": "[encoded data removed]",
      "text/plain": [
       "<Figure size 360x288 with 1 Axes>"
      ]
     },
     "metadata": {
      "needs_background": "light"
     },
     "output_type": "display_data"
    }
   ],
   "source": [
    "data['feedback'].value_counts().plot.bar(color = 'orange', figsize = (5, 4))\n",
    "plt.title('Visualizing the feedbacks dist.')\n",
    "plt.xlabel('feedbacks')\n",
    "plt.ylabel('count')\n",
    "plt.show()"
   ]
  },
  {
   "cell_type": "code",
   "execution_count": 18,
   "id": "4357bb2e",
   "metadata": {},
   "outputs": [
    {
     "data": {
      "image/png": "[encoded data removed]",
      "text/plain": [
       "<Figure size 864x360 with 1 Axes>"
      ]
     },
     "metadata": {
      "needs_background": "light"
     },
     "output_type": "display_data"
    }
   ],
   "source": [
    "data['length'].value_counts().plot.hist(color = 'pink', figsize = (12, 5), bins = 50)\n",
    "plt.title('Visualizing the length dist.')\n",
    "plt.xlabel('lengths')\n",
    "plt.ylabel('count')\n",
    "plt.show()"
   ]
  },
  {
   "cell_type": "code",
   "execution_count": 19,
   "id": "c0af96a4",
   "metadata": {},
   "outputs": [
    {
     "data": {
      "text/plain": [
       "count    3150.000000\n",
       "mean      132.049524\n",
       "std       182.099952\n",
       "min         1.000000\n",
       "25%        30.000000\n",
       "50%        74.000000\n",
       "75%       165.000000\n",
       "max      2851.000000\n",
       "Name: length, dtype: float64"
      ]
     },
     "execution_count": 19,
     "metadata": {},
     "output_type": "execute_result"
    }
   ],
   "source": [
    "data.length.describe()"
   ]
  },
  {
   "cell_type": "code",
   "execution_count": 20,
   "id": "6f51612a",
   "metadata": {},
   "outputs": [
    {
     "data": {
      "text/plain": [
       "'😍'"
      ]
     },
     "execution_count": 20,
     "metadata": {},
     "output_type": "execute_result"
    }
   ],
   "source": [
    "data[data['length'] == 1]['verified_reviews'].iloc[0]"
   ]
  },
  {
   "cell_type": "code",
   "execution_count": 21,
   "id": "a16b204b",
   "metadata": {},
   "outputs": [
    {
     "data": {
      "text/plain": [
       "'Good sound works well'"
      ]
     },
     "execution_count": 21,
     "metadata": {},
     "output_type": "execute_result"
    }
   ],
   "source": [
    "data[data['length'] == 21]['verified_reviews'].iloc[0]"
   ]
  },
  {
   "cell_type": "code",
   "execution_count": 22,
   "id": "c02b966d",
   "metadata": {},
   "outputs": [
    {
     "data": {
      "text/plain": [
       "'Yet another Exho for our home and love them all!!!'"
      ]
     },
     "execution_count": 22,
     "metadata": {},
     "output_type": "execute_result"
    }
   ],
   "source": [
    "data[data['length'] == 50]['verified_reviews'].iloc[0]"
   ]
  },
  {
   "cell_type": "code",
   "execution_count": 23,
   "id": "16bdc206",
   "metadata": {},
   "outputs": [
    {
     "data": {
      "text/plain": [
       "\"Incredible piece of technology.I have this right center of my living room on an island kitchen counter. The mic and speaker goes in every direction and the quality of the sound is quite good. I connected the Echo via Bluetooth to my Sony soundbar on my TV but find the Echo placement and 360 sound more appealing. It's no audiophile equipment but there is good range and decent bass. The sound is more than adequate for any indoor entertaining and loud enough to bother neighbors in my building. The knob on the top works great for adjusting volume. This is my first Echo device and I would imagine having to press volume buttons (on the Echo 2) a large inconvenience and not as precise. For that alone I would recommend this over the regular Echo (2nd generation).The piece looks quality and is quite sturdy with some weight on it. The rubber material on the bottom has a good grip on the granite counter-- my cat can even rub her scent on it without tipping it over.This order came with a free Philips Hue Bulb which I installed along with an extra one I bought. I put the 2 bulbs into my living room floor lamp, turned on the light, and all I had to do was say &#34;Alexa, connect my devices&#34;. The default names for each bulb was assigned as &#34;First light&#34; and &#34;Second light&#34;, so I can have a dimmer floor lamp if I just turned on/off one of the lights by saying &#34;Alexa, turn off the second light&#34;. In the Alexa app, I created a 'Group' with &#34;First light&#34; and &#34;Second light&#34; and named the group &#34;The light&#34;, so to turn on the lamp with both bulbs shining I just say &#34;Alexa, turn on The light&#34;.I was surprised how easily the bulbs connected to the Echo Plus with its built in hub. I thought I would have to buy a hub bridge to connect to my floor lamp power plug. Apparently there is some technology built directly inside the bulb! I was surprised by that. Awesome.You will feel like Tony Stark on this device. I added quite a few &#34;Skills&#34; like 'Thunderstorm sounds' and 'Quote of the day' . Alexa always loads them up quickly. Adding songs that you hear to specific playlists on Amazon Music is also a great feature.I can go on and on and this is only my second day of ownership.I was lucky to buy this for $100 on Prime Day, but I think for $150 is it pretty expensive considering the Echo 2 is only $100. In my opinion, you will be paying a premium for the Echo Plus and you have to decide if the value is there for you:1) Taller and 360 sound unit.2) Volume knob on top that you spin (I think this is a huge benefit over buttons)3) Built in hub for Hue bulbs. After researching more, there are some cons to this setup if you plan on having more advanced light setups. For me and my floor lamp, it's just perfect.I highly recommend it and will buy an Echo dot for my bedroom now.\""
      ]
     },
     "execution_count": 23,
     "metadata": {},
     "output_type": "execute_result"
    }
   ],
   "source": [
    "data[data['length'] == 2851]['verified_reviews'].iloc[0]"
   ]
  },
  {
   "cell_type": "code",
   "execution_count": 24,
   "id": "8b235842",
   "metadata": {},
   "outputs": [
    {
     "data": {
      "text/plain": [
       "count          3150\n",
       "unique           77\n",
       "top       30-Jul-18\n",
       "freq           1603\n",
       "Name: date, dtype: object"
      ]
     },
     "execution_count": 24,
     "metadata": {},
     "output_type": "execute_result"
    }
   ],
   "source": [
    "data.date.describe()"
   ]
  },
  {
   "cell_type": "code",
   "execution_count": 25,
   "id": "5491e2f0",
   "metadata": {},
   "outputs": [
    {
     "data": {
      "text/plain": [
       "30-Jul-18    1603\n",
       "29-Jul-18     482\n",
       "28-Jul-18     250\n",
       "26-Jul-18      85\n",
       "31-Jul-18      81\n",
       "             ... \n",
       "02-Jun-18       2\n",
       "09-Jun-18       1\n",
       "29-May-18       1\n",
       "04-Jun-18       1\n",
       "13-Jun-18       1\n",
       "Name: date, Length: 77, dtype: int64"
      ]
     },
     "execution_count": 25,
     "metadata": {},
     "output_type": "execute_result"
    }
   ],
   "source": [
    "data['date'].value_counts()"
   ]
  },
  {
   "cell_type": "code",
   "execution_count": 26,
   "id": "7d0aaf0b",
   "metadata": {},
   "outputs": [
    {
     "data": {
      "image/png": "[encoded data removed]",
      "text/plain": [
       "<Figure size 792x504 with 1 Axes>"
      ]
     },
     "metadata": {
      "needs_background": "light"
     },
     "output_type": "display_data"
    }
   ],
   "source": [
    "data.groupby('variation').mean()[['rating']].plot.bar(color = 'brown', figsize=(11, 7))\n",
    "plt.title(\"Variation wise Mean Ratings\")\n",
    "plt.xlabel('variatiions')\n",
    "plt.ylabel('ratings')\n",
    "plt.show()"
   ]
  },
  {
   "cell_type": "code",
   "execution_count": 27,
   "id": "0b6165ad",
   "metadata": {},
   "outputs": [
    {
     "data": {
      "image/png": "[encoded data removed]",
      "text/plain": [
       "<Figure size 360x288 with 1 Axes>"
      ]
     },
     "metadata": {
      "needs_background": "light"
     },
     "output_type": "display_data"
    }
   ],
   "source": [
    "data.groupby('feedback').mean()[['rating']].plot.bar(color = 'crimson', figsize=(5, 4))\n",
    "plt.title(\"feedback wise Mean Ratings\")\n",
    "plt.xlabel('feedbacks')\n",
    "plt.ylabel('ratings')\n",
    "plt.show()"
   ]
  },
  {
   "cell_type": "code",
   "execution_count": 28,
   "id": "b266e9ca",
   "metadata": {},
   "outputs": [
    {
     "data": {
      "image/png": "[encoded data removed]",
      "text/plain": [
       "<Figure size 504x432 with 1 Axes>"
      ]
     },
     "metadata": {
      "needs_background": "light"
     },
     "output_type": "display_data"
    }
   ],
   "source": [
    "data.groupby('length').mean()[['rating']].plot.hist(color = 'gray', figsize=(7, 6), bins = 20)\n",
    "plt.title(\"length wise Mean Ratings\")\n",
    "plt.xlabel('length')\n",
    "plt.ylabel('ratings')\n",
    "plt.show()"
   ]
  },
  {
   "cell_type": "code",
   "execution_count": 29,
   "id": "93ad7364",
   "metadata": {},
   "outputs": [
    {
     "data": {
      "text/plain": [
       "'!\"#$%&\\'()*+,-./:;<=>?@[\\\\]^_`{|}~'"
      ]
     },
     "execution_count": 29,
     "metadata": {},
     "output_type": "execute_result"
    }
   ],
   "source": [
    "import string\n",
    "string.punctuation"
   ]
  },
  {
   "cell_type": "code",
   "execution_count": 30,
   "id": "6580db02",
   "metadata": {},
   "outputs": [],
   "source": [
    "from nltk.tokenize import word_tokenize"
   ]
  },
  {
   "cell_type": "code",
   "execution_count": 31,
   "id": "6d865338",
   "metadata": {},
   "outputs": [
    {
     "data": {
      "text/plain": [
       "Text(0.5, 1.0, 'Most Frequently Occuring Words - Top 20')"
      ]
     },
     "execution_count": 31,
     "metadata": {},
     "output_type": "execute_result"
    },
    {
     "data": {
      "image/png": "[encoded data removed]",
      "text/plain": [
       "<Figure size 1080x504 with 1 Axes>"
      ]
     },
     "metadata": {
      "needs_background": "light"
     },
     "output_type": "display_data"
    }
   ],
   "source": [
    "from sklearn.feature_extraction.text import CountVectorizer\n",
    "\n",
    "\n",
    "cv = CountVectorizer(stop_words = 'english')\n",
    "words = cv.fit_transform(data.verified_reviews)\n",
    "sum_words = words.sum(axis=0)\n",
    "\n",
    "\n",
    "words_freq = [(word, sum_words[0, idx]) for word, idx in cv.vocabulary_.items()]\n",
    "words_freq = sorted(words_freq, key = lambda x: x[1], reverse = True)\n",
    "frequency = pd.DataFrame(words_freq, columns=['word', 'freq'])\n",
    "\n",
    "\n",
    "frequency.head(20).plot(x='word', y='freq', kind='bar', figsize=(15, 7), color = 'lightgreen')\n",
    "plt.title(\"Most Frequently Occuring Words - Top 20\")"
   ]
  },
  {
   "cell_type": "code",
   "execution_count": 32,
   "id": "31e6aef2",
   "metadata": {},
   "outputs": [
    {
     "name": "stdout",
     "output_type": "stream",
     "text": [
      "Defaulting to user installation because normal site-packages is not writeable\n",
      "Requirement already satisfied: wordcloud in c:\\users\\hp\\appdata\\roaming\\python\\python39\\site-packages (1.8.2.2)\n",
      "Requirement already satisfied: numpy>=1.6.1 in c:\\programdata\\anaconda3\\lib\\site-packages (from wordcloud) (1.21.5)\n",
      "Requirement already satisfied: matplotlib in c:\\programdata\\anaconda3\\lib\\site-packages (from wordcloud) (3.5.1)\n",
      "Requirement already satisfied: pillow in c:\\programdata\\anaconda3\\lib\\site-packages (from wordcloud) (9.0.1)\n",
      "Requirement already satisfied: kiwisolver>=1.0.1 in c:\\programdata\\anaconda3\\lib\\site-packages (from matplotlib->wordcloud) (1.3.2)\n",
      "Requirement already satisfied: pyparsing>=2.2.1 in c:\\programdata\\anaconda3\\lib\\site-packages (from matplotlib->wordcloud) (3.0.4)\n",
      "Requirement already satisfied: python-dateutil>=2.7 in c:\\programdata\\anaconda3\\lib\\site-packages (from matplotlib->wordcloud) (2.8.2)\n",
      "Requirement already satisfied: packaging>=20.0 in c:\\programdata\\anaconda3\\lib\\site-packages (from matplotlib->wordcloud) (21.3)\n",
      "Requirement already satisfied: fonttools>=4.22.0 in c:\\programdata\\anaconda3\\lib\\site-packages (from matplotlib->wordcloud) (4.25.0)\n",
      "Requirement already satisfied: cycler>=0.10 in c:\\programdata\\anaconda3\\lib\\site-packages (from matplotlib->wordcloud) (0.11.0)\n",
      "Requirement already satisfied: six>=1.5 in c:\\programdata\\anaconda3\\lib\\site-packages (from python-dateutil>=2.7->matplotlib->wordcloud) (1.16.0)\n"
     ]
    }
   ],
   "source": [
    "!pip install wordcloud"
   ]
  },
  {
   "cell_type": "code",
   "execution_count": 33,
   "id": "d271162b",
   "metadata": {},
   "outputs": [
    {
     "data": {
      "text/plain": [
       "Text(0.5, 1.0, 'WordCloud - Vocabulary from Reviews')"
      ]
     },
     "execution_count": 33,
     "metadata": {},
     "output_type": "execute_result"
    },
    {
     "data": {
      "image/png": "[encoded data removed]",
      "text/plain": [
       "<Figure size 720x576 with 1 Axes>"
      ]
     },
     "metadata": {
      "needs_background": "light"
     },
     "output_type": "display_data"
    }
   ],
   "source": [
    "from wordcloud import WordCloud\n",
    "\n",
    "wordcloud = WordCloud(background_color = 'lightcyan', width = 1200, height = 700).generate_from_frequencies(dict(words_freq))\n",
    "\n",
    "plt.figure(figsize=(10,8))\n",
    "plt.imshow(wordcloud)\n",
    "plt.title(\"WordCloud - Vocabulary from Reviews\", fontsize = 22)"
   ]
  },
  {
   "cell_type": "code",
   "execution_count": 34,
   "id": "8c1d98a7",
   "metadata": {},
   "outputs": [
    {
     "name": "stdout",
     "output_type": "stream",
     "text": [
      "Defaulting to user installation because normal site-packages is not writeable\n",
      "Requirement already satisfied: stopwords in c:\\users\\hp\\appdata\\roaming\\python\\python39\\site-packages (1.0.0)\n"
     ]
    }
   ],
   "source": [
    "!pip install stopwords"
   ]
  },
  {
   "cell_type": "code",
   "execution_count": 35,
   "id": "5b803c3e",
   "metadata": {},
   "outputs": [],
   "source": [
    "import re\n",
    "import nltk\n",
    "from nltk.corpus import stopwords\n",
    "from nltk.stem.porter import PorterStemmer"
   ]
  },
  {
   "cell_type": "code",
   "execution_count": 36,
   "id": "6e584e17",
   "metadata": {},
   "outputs": [],
   "source": [
    "corpus = []\n",
    "\n",
    "for i in range(0, 3150):\n",
    "      review = re.sub('[^a-zA-Z]', ' ', data['verified_reviews'][i])\n",
    "      review = review.lower()\n",
    "      review = review.split()\n",
    "      ps = PorterStemmer()\n",
    "      review = [ps.stem(word) for word in review if not word in (set(stopwords.words('english')) and string.punctuation)]\n",
    "      review = ' '.join(review)\n",
    "      corpus.append(review)"
   ]
  },
  {
   "cell_type": "code",
   "execution_count": 37,
   "id": "65ce8e09",
   "metadata": {},
   "outputs": [
    {
     "data": {
      "text/plain": [
       "['love my echo',\n",
       " 'love it',\n",
       " 'sometim while play a game you can answer a question correctli but alexa say you got it wrong and answer the same as you i like be abl to turn light on and off while away from home',\n",
       " 'i have had a lot of fun with thi thing my yr old learn about dinosaur i control the light and play game like categori ha nice sound when play music as well',\n",
       " 'music',\n",
       " 'i receiv the echo as a gift i need anoth bluetooth or someth to play music easili access and found thi smart speaker can t wait to see what els it can do',\n",
       " 'without have a cellphon i cannot use mani of her featur i have an ipad but do not see that of ani use it is a great alarm if u r almost deaf you can hear her alarm in the bedroom from out in the live room so that is reason enough to keep her it is fun to ask random question to hear her respons she doe not seem to be veri smartbon polit yet',\n",
       " 'i think thi is the th one i ve purchas i m work on get one in everi room of my hous i realli like what featur they offer specifili play music on all echo and control the light throughout my hous',\n",
       " 'look great',\n",
       " 'love it i ve listen to song i haven t heard sinc childhood i get the news weather inform it s great',\n",
       " 'i sent it to my year old dad and he talk to it constantli',\n",
       " 'i love it learn knew thing with it eveyday still figur out how everyth work but so far it s been easi to use and understand she doe make me laugh at time',\n",
       " 'i purchas thi for my mother who is have knee problem now to give her someth to do while tri to over come not get around so fast like she did she enjoy all the littl and big thing it can do alexa play thi song what time is it and where and how to cook thi and that',\n",
       " 'love love love',\n",
       " 'just what i expect',\n",
       " 'i love it wife hate it',\n",
       " 'realli happi with thi purchas great speaker and easi to set up',\n",
       " 'we have onli been use alexa for a coupl of day and are have a lot of fun with our new toy it like have a new household member we are tri to learn all the differ featu and benefit that come with it',\n",
       " 'we love the size of the nd gener echo still need a littl improv on sound',\n",
       " 'i like the origin echo thi is the same but shorter and with greater fabric color choic i miss the volum ring on top now it s just the plu minu button not a big deal but the ring w as comfort other than that well i do like the use of a standard usb charger port instead of the previou round pin other than that i guess it sound the same seem to work the same still answer to alexa echo comput so what s not to like',\n",
       " 'love the echo and how good the music sound play off it alexa understand most command but it is difficult at time for her to find specif playlist or song on spotifi she is good with amazon music but is lack in other major program',\n",
       " 'we love alexa we use her to play music play radio through itun play podcast through anypod and set remind we listen to our flash brief of news and weather everi morn we reli on our custom list we like be abl to voic control the volum we re sure we ll continu to find new use sometim it s a bit frustrat when alexa doesn t understand what we re say',\n",
       " 'have onli had it set up for a few day still ad smart home devic to it the speaker is great for play music i like the size we have it station on the kitchen counter and it s not intrus to look at',\n",
       " 'i love it it play my sleep sound immedi when i ask',\n",
       " 'i got a second unit for the bedroom i wa expect the sound to be improv but i didnt realli see a differ at all overal not a big improv over the st gener',\n",
       " 'amaz product',\n",
       " 'i love my echo it s easi to oper load of fun it is everyth as advertis i use it mainli to play my favorit tune and test alexa s knowledg',\n",
       " 'sound great love them',\n",
       " 'fun item to play with and get use to use sometim ha hard time answer the question you ask but i think it will be better',\n",
       " 'just like the other one',\n",
       " 'still learn all the capabl but so far pretti pretti pretti good',\n",
       " 'i like it',\n",
       " 'she work well need a learn command for uniqu owner and user like alexa learn tasha s birthday or alexa learn my definit of fine etc other than that she is great',\n",
       " 'the speaker sound pretti good for be so small and setup is pretti easi i bought two and the reason i onli rate it a is i have follow the instruct for synch music to both unit i know i ve done it correctli but they won t sync that wa my primari motiv for purchas multipl unit',\n",
       " 'thi devic is awesom',\n",
       " 'i bought thi to compar the speaker qualiti to our first gener speaker and i like the sound better i will ship thi to my daughter though becaus i like the fact that my first gener ha a chargeabl base that we bought which keep it more mobil and she need a better sound than what she ha now',\n",
       " 'love my echo still learn all the thing it will do wasn t abl to follow instruct includ in the packag but found a great one on u tube',\n",
       " 'speaker is better than st gener echo',\n",
       " 'thi thing is way cool you should get one if you want to be cool that is',\n",
       " 'thi is my first digit assist so i m give thi a good review speaker is realli good for the cheap price on prime day fun to play with and can be use as an alarm clock that s what i wa go to get in the first place but i end up with echo if you haven t had a go with one then definit tri it what i like best is the number of other devic that it can connect with my purchas came with a smart plug for which i connect my lamp to alexa turn of the light',\n",
       " 'my husband like be abl to use it to listen to music i wish we knew all it s capabl',\n",
       " 'my android would not allow alexa to connect fortun my sister wa here with her appl cell after an hour tech support fix the glitch we are up and run',\n",
       " 'so far so good',\n",
       " 'tri to play certain broadway show like camelot and it give ne the group camelot',\n",
       " 'great',\n",
       " 'veri satisfi with the echo alexa now control the light in my famili room and my wife can listen to jimmi buffet by just ask alexa',\n",
       " 'it s like siri in fact siri answer more accur then alexa i don t see a real need for it in my household though it wa a good bargain on prime day deal',\n",
       " 'love my echo still learn how everi thing work but have ton of fun',\n",
       " 'i love you so much',\n",
       " 'no differ than appl to play a specif list of music you must have an amazon of spotifi plu prime etc account so you must pay to play your music star for that reason everyth els is',\n",
       " 'excelent lo unico es que no esta en espa ol',\n",
       " 'i m still learn how to use it but so far my echo is great the sound is actual much better than i wa expect',\n",
       " 'work as you d expect and then some also good sound qualiti consid price on sale and featur',\n",
       " 'the sound from thi echo nd gener is phenomen not to mention that i just love alexa she is veri help',\n",
       " 'like googl better',\n",
       " 'just had to have it and now let play and learn how to get the most out of it',\n",
       " 'work as advertis veri easi to setup still learn what thi can do',\n",
       " 'great sound and easi to set up',\n",
       " 'love alexa bought other for friend',\n",
       " 'love the echo i purchas it for compani for my husband he is and alexa is great all he ha to do is say her name and she tell him a joke and play hi favorit song',\n",
       " '',\n",
       " 'love be abl to listen to music easili still learn all the featur avail',\n",
       " 'did t realli know what i could use thi devic for use it for a few thing but need an overview',\n",
       " 'love thi just wish it had a built in hub',\n",
       " 'i use it primarili to play music it work wonder still get use to some of the mani thing it will do amazon ha sent sever tip sinc i got it thank for all your help',\n",
       " 'how easi if wa to set up',\n",
       " 'fast respons which wa amaz clear concis answer and sound qualiti is fantast i am still get use to alexia and have not usd echo to it full extent',\n",
       " 'you re all i need na na nana',\n",
       " 'doe everyth as expect and more',\n",
       " 'i love my echo work just like they said it would i don t have a smart home so i cannot speak about that function but everyth els about it is good',\n",
       " 'great sound in a small packag easi to set up and use fun to own',\n",
       " 'work and sound great',\n",
       " 'the sound is amaz and mani collect of all music',\n",
       " 'set up',\n",
       " 'she doesn t alway listen',\n",
       " 'it s awesom',\n",
       " 'i bought thi becaus it can control fio televis it work well i m hope over time it will do more to control fio then i discov all the other thing alexa can do play music you ask for great sound from alexa play game play radio station play old time radio program like the long ranger alexa ha mani app you can add to her abil the other day i play madlib great fun also alexa can control household applianc i just purchas alexa compat power strip to control light fan and tv compon i m look forward to implement thi control you can also add other alexa compon to have chosen music to play in all room where the compon are locat',\n",
       " 'the speaker ha excel sound and work perfectli',\n",
       " 'i like it all',\n",
       " 'i love it it doe everyth',\n",
       " 'i wa a littl nervou when i receiv my new echo as i m not realli tech savvi i found it a bit intimid at first but it didn t take me to long to figur it out i m veri happi with my purchas and now think of ad an echo spot',\n",
       " 'i like it and still learn how to use it',\n",
       " 'great technolog can t believ the speaker volum and qualiti is so wonder wish i had bought anoth one',\n",
       " 'i purchas an echo dot for my husband for father day he use it constantli and after hear the qualiti of sound of the echo nd gener it wa a no brainer best gift ever',\n",
       " 'work fine',\n",
       " '',\n",
       " 'clear music',\n",
       " 'fun to use good sound qualiti',\n",
       " 'the echo work well i wa abl to sync it with my other amazon music devic',\n",
       " 'work great but i don t think amazon should charg anoth cent for unlimit music when you have prime and buy an echo',\n",
       " 'alreadi had an echo dot the echo is even better with fuller sound also dure setup it now let phone call to be made to my contact list which is great',\n",
       " 'the speaker sound realli good',\n",
       " 'good sound work well',\n",
       " 'love it and alexa i am not veri savvi but support wa veri help and patient',\n",
       " 'love it i wa think about get one and when the prime day discount wa offer i could not pass it up it s fun to ask alexa to play ani song or group and she come up with a playlist from amazon prime music you can also connect your iphon with bluetooth and play music with pandora or youtub video use alexa as a speaker i ve been have fun ask alexa differ type of question or for inform like weather news or even the time in other countri the onli downsid is if you have limit data on your wifi plan becaus alexa use burn it up when play music',\n",
       " 'we like it all so far but have a lot to tri out yet',\n",
       " 'love it am use it strictli for music now and it s great',\n",
       " 'love the echo i love the size materi and speaker qualiti i have it hook up to one light easili and will work on addit light and thermostat next is echo dot for bedroom there is a lot more to do with echo that you think traffic weather trivia etc',\n",
       " 'love it',\n",
       " 'the entir famili love alexa echo she s now a part of thi famili',\n",
       " 'great fun get to know all the function of thi product wow famili fun and homework help talk with other grandchildren who also have an echo is a huge bonu can t wait to learn more and more and more',\n",
       " 'love it',\n",
       " 'awesom thing love alexa',\n",
       " 'it work exactli as expect and the speaker ha great sound it is perfect for my classroom',\n",
       " 'love love thi new littl gadget ha made our live so much easier it s like have our own person secretari live here in the home we hardli need our cd s anymor sinc alexa play everyth we need go to get the alexa dot soon for more room thank',\n",
       " 'the speaker is of surpris qualiti happi with the purchas',\n",
       " 'veri easi to set up work wonder and i love it',\n",
       " 'i m realli impress with the sound qualiti when play music from thi devic the bass sound almost like it s come from a bigger speaker so prop to amazon',\n",
       " 'it s still a great product but the sound qualiti doe seem wors don t get me wrong you definit get use to it within an hour but it definit feel like echo gen sound qualiti wa better besid that it s great with the addit of be abl to play just over bluetooth with no wifi it s even better',\n",
       " 'the outlet doe not work with it wa disappoint in that',\n",
       " 'great devic respons and help',\n",
       " 'sound is terribl if u want good music too get a bose',\n",
       " 'i like the sound what is troubl is that i paid extra money to have access to a million more song sometim it doesn t work ex alexa play italian song don t have or don t understand or play the opera tosca respons sorri i don t have that',\n",
       " 'easi to set up and use too bad it ha to be plug in would be nice to take it outsid and oper on batteri and recharg',\n",
       " 'still learn all the way to use it it is a real hit with my grandkid who ask it to play music and then danc to it and yr veri cute',\n",
       " 'out of star i gener like thi product it great at do what you ask of it like play music set timer and make call reason whi i didn t rate it out of is that sometim the connect die and my echo stop play music and show a red ring seem to be a connect issu overal great product',\n",
       " 'work great upgrad from echo dot to full size echo couldn t be happier',\n",
       " 'it s alexa what els can you say',\n",
       " 'upgrad from my lilttl echo dot happi with sound',\n",
       " 'excel product set up with eas as well',\n",
       " 'i ve had the first gen echo sinc it first came out and it ha work well for me i purchas the nd gen dure prime day and so far i m happi it seem to have an improv speaker which provid enhanc sound for music and such',\n",
       " 'i love my echo smart speaker i love the volum and clariti it wa easi to set up it a wonder gift for ani age',\n",
       " 'wonder product and fast deliveri',\n",
       " 'initi harder to set up call tech wasn t that knowledg now work great',\n",
       " 'it wa veri easi to set up and my famili love it s',\n",
       " 'ha great sound and is veri respons my voic and command',\n",
       " 'how did i live thi long without the echo you get to enjoy ani music style just my ask alexa go to up gread to the wireless love the echo love you too alexa',\n",
       " 'veri cool product speaker sound good with my spotifi blast through it',\n",
       " 'have so much fun with alexa love be abl to listen to music when i m across the room or busi do someth els',\n",
       " 'so far it seem to be a veri nice item it pick up on my voic and understand me without ani problem the other day i ask it to turn down the music from the next room and it heard me just fine i ve onli use it to listen to music and check the weather but it ha done both of those thing veri well',\n",
       " 'love our echo',\n",
       " 'i love it she is veri help i use her for rememb thing and sleep you can ask her just about anyth i have onli had her for about a week so still learn her',\n",
       " 'it s better than the st gen in everi way except for one i realli miss the ring at the top for volum control it wa quicker and easier to just grab the top and twist without have to look at the button and find the one and press it a few time i also wish the bass wa a bit better all in all it s a great devic and i m happi with it',\n",
       " 'i love have an alexa',\n",
       " 'so far i like it',\n",
       " 'i am thoroughli enjoy my ecoo love to have it read my audiobook to me while in the offic and then i can simpli open the audiobook on my kindl to continu it when elsewher wonder for listen to music when not in the mood for a book great for set remind for myself too and so much more',\n",
       " 'still love it',\n",
       " 'love it',\n",
       " 'i love the sound qualiti of thi unit it is a veri clear sound',\n",
       " 'i just thi for listen to talk radio in the morn and turn light on and off etc the system doe an excel job as a full hous sound system stream siriu',\n",
       " 'i have had for onli a week so i am still learn all that alexa can do it is a learn process i love the music i can call up ani time i listen to podcast and radio station i have just start keep shop list and groceri list which i love i don t have to search for paper and pencil get time and temperatur are great do not have to wait for weather report the sound is good i am not fussi about woofer tweeter base etc the echo is fine for me thi afternoon i am go to tri drop in on my son when he get home go to surpris him',\n",
       " 'not much featur',\n",
       " 'great sound qualiti great featur great product multi room music is veri cool',\n",
       " 'cool',\n",
       " 'everyon should have an echo or two or three or more i bought my echo through qvc',\n",
       " 'it s annoy that everyth they show alexa as be abl to do ha to be download you spend so much time tri to figur out how to phrase it for the machin that you may as well just look it up yourself',\n",
       " 'i have had alexa sinc the begin i accident spill water on her and have replac it with the nd gener i decid i couldn t be without an echo setup wa easi and had it work within minut',\n",
       " 'i like be abl to tell alexia the music i want to hear but sometim she ha troubl find the song if i am not veri specif about the titl',\n",
       " 'i like the look better than the origin echo i move my old echo to the basement famili room nice sound',\n",
       " 'the echo is wonder but i m still learn how to use it music request are somewhat limit',\n",
       " 'doesn t know half the thing ask can t recogn my sprinkler wifi control even though product detail say it is compat can t program or chang my wifi thermostat set and it match up on same wifi router just a handi music player that s if you have amazon music',\n",
       " 'love it',\n",
       " 'awesom understand my kid',\n",
       " 'we were pleasantli surpris at the sound qualiti and the mani featur how nice to easili hear a particular artist or hear our book just by a simpl command look forward to explor other option with thi devic',\n",
       " 'met and exceed my expect easi set up and is realli quick in respons',\n",
       " 'i like the fact that i can get ani kind of music from prime that i want on request from alexa i like the inform photo littl pamphlet but wish it includ how to connect your tv etc to the command from alexa but i realli love have the music',\n",
       " 'i have not found a way to access my echo thorough my prime account i think it should be part of the top line with video music etc i also think the setup app where i defin for exampl music i like is not well integr into echo i have tri to ask for my playlist and echo is not sure even though i set up play list in my set i also do not like the fact that my word have to be exact match of my playlist name which i can never rememb i like the readi natur of echo to respond to most ani queri',\n",
       " 'thi is great item and just ad audibl book which make it even better thank you',\n",
       " 'dure prime day thi nd gen echo wa on sale so i couldn t resist thi wa the begin to my smart home set up and i couldn t be happier to say that alexa ha done an amaz job connect to all of my smart devic thank to her i can control my light smart plug tv etc i had no troubl connect the echo to my wifi and my phone the app work perfectli fine and it let s you add skill routin smart devic timer and so much more sound qualiti is good enough for me sinc i am not an audiophil alexa can hear my voic even when watch movi at a high volum design is great and modern it will definit add a nice touch to your home and you can chang the cover if you d like as there are more for sale overal thi is a great addit to my home and enabl so mani possibl if you haven t yet be sure to add alexa to your home',\n",
       " 'versatil and fun',\n",
       " 'work great killer speaker my wife and son love it',\n",
       " 'we regret wait so long to purchas thi item we are both surpris and pleas with the sound qualiti',\n",
       " 'stop work after week didn t follow command realli fun when it wa work',\n",
       " 'so far love it work on get more thing set up love the groceri list app',\n",
       " 'it perform pretti much as expect but i am veri disappoint it will not provid me with the terminolog i need to play variou kind of music without subscrib to the amazon music servic i understand my music choic may be limit but without know how to ask i cannot access the music that is provid free along with my echo purchas do you have a chart show the languag i need to use',\n",
       " 'easi to set up',\n",
       " 'i like the product except that the speaker are not the high qualiti i expect',\n",
       " 'a great invest alexa ha help me out and made me laugh',\n",
       " 'yet anoth exho for our home and love them all',\n",
       " 'i love it i can plan ani gender of music from big band to jazz not easi to find on local radio sound is good and i can stop it with a voic command if i get a phone call',\n",
       " 'good valu',\n",
       " 'super easi set up and am love our new echo',\n",
       " 'what not to like about thi speaker just ask alexa',\n",
       " 'best father s day gift dad joke to my mom that alexa will be the one listen to all of hi repeat stori go forward',\n",
       " 'great addit to our breakfast room kitchen tune and inform instantli avail slowli learn more featur',\n",
       " 'sound qualiti',\n",
       " 'sad joke worthless',\n",
       " 'entertain',\n",
       " 'veri good qualiti',\n",
       " 'work great sound great doe not miss a beat wish it had a batteri for better portabl',\n",
       " 'love it till someon stole it can t afford to replac it yet but i am go too',\n",
       " 'alexa rock',\n",
       " 'got thi as a gift and love it i never would have bought one for myself but now that i have it allow me to play music on it from my amozon prime music that s worth it in and of itself also give new s brief and tell joke',\n",
       " '',\n",
       " 'my mom bought a few echo dot and repeat ask me to take one of her becaus it wa so great i told her no for two day when she made me take it hour later i could not live my life without it it s that amaz so now we have four larg speaker and onli the small echo dot that i will be return to her i say if you re go to order an alexa speaker go big and get the echo otherwis tou ll be return the two echo dot you couldn t live without',\n",
       " 'love it great product',\n",
       " 'easi set up veri user friendli',\n",
       " 'realli disappoint alexa ha to be plug in to wall socket all the time my fault for not check thi but made the assumpt that a compani ha technolog advanc as amazon would sell thi product with a recharg batteri if i could return it i would as my appl music and boom speaker give me more flexibl the alexa',\n",
       " 'i don t think the nd gen sound as good as the st but it doe have an aux out so you could add an extern speaker but if you are go to do that whi wouldn t you just get a dot nd issu is which isn t uniqu to thi unit but i don t understand whi i can t overrid the default that prevent you from play a blue tooth speaker while play through a group i get there is a delay when use a bt speaker but if the other unit are not where they can be heard then i should be abl to play as a group while use the bt speaker',\n",
       " 'everyth',\n",
       " 'i like the interact of ask question i don t like that i can t ask her to setup schedul of off and on of connect lamp',\n",
       " 'supberb sound definit worth the extra money if you listen to lot of music',\n",
       " 'i realli love my amazon echo i think the sound qualiti is great and we have a lot of fun with it it is realli handi for music and to get updat on the weather and sport',\n",
       " 'love it so do the grandkid',\n",
       " 'so far it ha work well not alway intuit as to how to link differ devic or skill but get the hang of it',\n",
       " 'work as advertis',\n",
       " 'i love it',\n",
       " 'love my new addit to the hous speaker qualiti is great and over all we love our alexa my onli two not complaint more suggest for the futur seri would be better commun abil exampl for our smart light in the hous unless we specifi kitchen light or kitchen light prior to the command she either won t respond or say she doesn t recogn it may be me but i want my alexa to respond when i say thank you afterward i have to repeat alexa thank you and there are time she won t respond to me but will my husband i know it sound odd we laugh about it but mayb it s a southern thing but i want my alexa to have manner too',\n",
       " 'like everyth about it the music the trivia game the weather',\n",
       " 'as describ and receiv on time do not like automat enrol into music',\n",
       " 'a great devic',\n",
       " 'i own an echo for overa year but the new lack the easi way to increas or decreas volum without tell it to increas or decreas volum which is hard to do for my wife sinc english is her second languag she wa born in korea but the sound from the echo is superb so we ll keep it',\n",
       " 'love thi have it in the kitchen and work well',\n",
       " 'veri nice i m impress wish she had more to say though',\n",
       " 'love the product nice to have easi access to so much info',\n",
       " 'it s got great sound and bass but it doesn t work all of the time it still hot or miss when it recogn thing',\n",
       " 'we are still discov all that the echo can do',\n",
       " 'amaz paroduct',\n",
       " 'good hear rang and sound qualiti it wa a bit complic to set up and she doesn t quit understand me a lot even when i am speak slowli and clearli but i love the flash brief featur and interfac with my abod home secur system',\n",
       " 'speaker sound good',\n",
       " 'absolut love',\n",
       " 'the best part of thi product is you can control the thermostat and light for your hous there isn t anyth i dislik',\n",
       " 'we re thoroughli enjoy our amazon echo instal wa easi use the alexa app i purchas kasa smart plug to control our live room light instal again wa easi use the kasa app they sinqu right up with the echo we re enjoy play music with the echo and the sound qualiti is awesom we ve ad a kasa smart bulb for our kitchen setup wa seamless we re look forward to ad more autom to our home',\n",
       " 'home entertain',\n",
       " 'veri cool product easi to setup fun to use and sound qualiti is much better than i anticip',\n",
       " 'love these great sound easi to connect and use',\n",
       " 'doesn t work with my fairli new smart tv but that s mainli the tv manufactur lg fault due to not support anyth older than tv from thi year my smart lock also need an addit piec of equip in order to connect as well speaker sound great and work veri well',\n",
       " 'great sound from a littl speaker',\n",
       " 'we enjoy it',\n",
       " '',\n",
       " 'cool',\n",
       " 'good qualiti great sound qualiti',\n",
       " 'work perfectli',\n",
       " 'great product sometim alexa doe not understand some command for my fire tv all in all thi is a fabul speaker',\n",
       " 'love my echo great sound veri smart',\n",
       " 'sure did love it',\n",
       " 'play great',\n",
       " 'work absolut great',\n",
       " 'veri amaz product great sound qualiti',\n",
       " 'best thing i ve invest in in a while thank you so much',\n",
       " 'i am extrem impress with thi item bought it from the warehous or outlet with a minor imperfect can t tell it even ha one work great didn t come in packag but it wa seal up and had no damag and wasn t miss anyth i like the sound qualiti i see some knock it it s not a bose but it s more than great for our famili easi to use minor learn curv as it learn your voic it integr seamlessli with my other amazon servic can t wait to get for my classroom too it s a lot of fun even just as a speaker let alon what i plan to do with it',\n",
       " 'i love my echo show and now i have thi in my bedroom and it s wonder music info sleep sound',\n",
       " 'awesom life changer serious i am abl to start my morn with alexa by have her wake me up with her alarm and then play me some music she ha gotten use to my voic that i can be in anoth room and she will listen to what i say i love both my echo don t hesit get one and for the price the speaker is unbeliev i am buy the cordless holder so i can take the echo anywher love my purchas and love alexa',\n",
       " 'i am not super impress with alexa when my prime laps she wouldn t play anyth she isn t smart enough to differenti among spotifi account so we can t use it for that either she randomli speak up when nobodi is talk to her just today i unplug her not sure i ll ever use my alexa again',\n",
       " 'i like everyth about it',\n",
       " 'like',\n",
       " 'never had ani issu with buy use electron as long as i get the good or like new just read the comment to see whi it is use',\n",
       " 'our famili realli love thi new echo',\n",
       " 'bought for my wife she love it',\n",
       " 'fun just got it today now my i pod will go in my car and i will use thi is the hous',\n",
       " 'like it to do more',\n",
       " 'thi is our third echo worth everi penni it s like have household employe for a small flat rate we keep them in the bedroom and the live room we can drop in and use them as an intercom listen to music answer quick question alarm to wake up for school etc',\n",
       " 'listen music and set timer',\n",
       " 'i receiv the echo in perfect condit the devic wa easi to set up and respond quickli and without ani issu alexa is a great addit to our famili',\n",
       " 'good sound like it for music and schedul like that i can get random thought record while i think about them the joke are cute',\n",
       " 'purchas thi for myself and am just begin to learn all that it can do so far am veri pleas and amaz at the differ action it can perform am enjoy it and look forward to learn more about other option it provid',\n",
       " 'thi echo is just as great as my other even though it is smaller',\n",
       " 'funni how you buy someth just becaus it look fun and it wind up be a total use part of your home love it',\n",
       " 'i bought thi to replac a dot in my live room speaker is slightli better it hear me better over the tv unfortun it doesn t understand or respond to my request as well as the dot i frequent have to request or time to get it to do what i want the dot usual doe exactli what i want on the first request i don t consid it an upgrad',\n",
       " 'i have had all good experi so far with the second gener echo there are so mani more thing to learn but i have not had the time yet right now i am mostli enjoy the music weather updat use the alarm featur and her person i have also purchas some mini smart socket ye i am veri excit to begin use them',\n",
       " 'i m have troubl connect my tv to it but i m not exactli tech smart i m sure one of my grandson will figur it out for me so far i ve been use it mostli for music',\n",
       " 'simpli love my echo i hardli watch ani tv at all anymor i m too busi listen to music speaker is pretti goo for it size all the fun skill realli make the echo fun for my whole famili',\n",
       " 'enjoy entir echo experi',\n",
       " 'easi to set up',\n",
       " 'the echo is an amaz devic mani time it seem veri intuit but at other time i ask for someth that seem clear and simpl and get no result instal wa fairli straightforward but i mess up sever time simpli becaus i thought a step wa complet when it wasn t thi actual made me lose ground until i figur that out my advic is to be patient the app will let you know when you can move on to the next step my biggest issu of the moment is that we have sever echo devic in our home and i would like to use them as intercom which i am told can be done howev i can t make ani of the echo awar of the other exist when i ask alexa how to do thi she answer about instruct how to chang her name i know thi is like my fault but i would think the design would anticip thi and make it easier to find the need instruct a small deal for mani devic savvi peopl but a challeng for me',\n",
       " 'we are love our veri much',\n",
       " 'i have the origin alexa and the tap and so far the nd gener is the best i m happi to see they are make improv with each new one it would be great to have updat to our littl a i s i think it would help out a lot with the bug in it all in all i am veri happi with her and i can now play music throughout the whole hous and adjust the bass and trebl thank you',\n",
       " 'veri pleas with the echo nd gener it is so nice to have alexa avail for music weather news and probabl a lot more we haven t discov',\n",
       " 'i am pleasantli surpris by the sound qualiti of the echo if you are a big fan of deep bass thi might not be suffici for you though the potenti to control your home is an option i will explor more as i evolv my home into a smart home the voic recognit is veri impress it is stylish and fun i have no regret with thi purchas it is great for technic chang peopl ask it to play a song or a movi and it respond instantli if you have an elderli love one thi would be a great gift onc connect to wifi it is veri simpl to use if you want unlimit music control be sure to have amazon prime or premium spotifi and you will be blown away with your person dj you can even have convers with the echo i am not embarrass to say that echo ha made me laugh a coupl time when i ask it to tell me a joke it tell me where my packag are sinc i am an amazon prime addict it come in extrem handi',\n",
       " 'easi to setup love all the thing she doe',\n",
       " 'have alexa throughout the hous the futur ha arriv',\n",
       " 'i alreadi have an alexa and with amazon find today i could not resist get an echo also it is the best thing i ever did i use them on each side of the hous and couldn t be happier',\n",
       " 'arriv as expect',\n",
       " 'bought thi a few week ago everyth about thi product is excel don t forget to buy a charger when order it s a must have to take outsid by the pool and not have to worri about hire an electrician to put in outlet all over the yard',\n",
       " 'terrif',\n",
       " 'love my echo',\n",
       " 'it s smaller than the origin look nicer too',\n",
       " 'work great',\n",
       " 'my husband and i are what i would call late adopt when it come to technolog but we decid we would tri and echo to serv primarili as a music sourc wow were we amaz and the great sound we ve also been have a great time listen to all of our favorit song buy just ask alexa i may even buy one for my elderli dad i think he will enjoy have one to listen to music or even place hi call to us',\n",
       " 'i realli have enjoy it chang the directv channel play iheartradio and pandora adjust the ac thermostat and turn the live room light and outsid light',\n",
       " 'i have been want one of these for a while now bought on prime day and absolut love it',\n",
       " 'we are so glad that we got the echo over a bluetooth speaker alexa doe so much more stuff than other non smart speaker out there i person love the timer featur it ha help me with cook multipl thing simultan pandora integr is anoth featur that i use daili so happi with out prime day purchas i will get the echo hub and a few more echo dot in the futur',\n",
       " 'see subject line love it',\n",
       " 'love it',\n",
       " 'veri easi setup',\n",
       " 'i wa hesit to buy the echo becaus i have the echo dot and it seem good enough the echo is the same except the sound qualiti which i realli didn t feel i need howev i am so glad i got it what a differ the sound realli is far superior to the echo dot now i can listen to the greatest showman with a littl more power',\n",
       " 'sound qualiti is great still learn about all the differ thing i can do with it fun',\n",
       " 'got a good deal and work great with prime setup wa a bit of a pain but more the fault of crappi internet servic ha work great with nice sound from small speaker',\n",
       " 'i love it',\n",
       " 'work great perfect for my offic',\n",
       " 'love it have one insid hous and one by our pool now just as good as bose speaker around hous',\n",
       " 'easi to use amaz',\n",
       " 'nice product a',\n",
       " 'we love our echo we were total amaz at the speaker qualiti onli bum we didn t buy two sinc we got it on prime day',\n",
       " 'veri respons great sound qualiti for it size',\n",
       " 'it s so effici and amaz how cool we all use it often everi day',\n",
       " 'i m impress with the qualiti of sound that the echo ha it s definit compar to my bose mini i onli gave star becaus i can t use my appl music account',\n",
       " 'technolog in such a small devic the price wa good too the sound is amaz a must have featur for ani home',\n",
       " 'mainli use it for the music but i m learn more all the time realli noth bad to say about it',\n",
       " 'i replac my st gen wa concern about a smaller unit not have the same sound i wa wrong if anyth it s the same volum and more clear good product',\n",
       " 'great addit to my echo plu',\n",
       " 'the best',\n",
       " 'love the featur to play music in everi room with multipl echo',\n",
       " 'i love alexa i am surpris how much i use her',\n",
       " 'i use thi product for enjoy and i just love it',\n",
       " 'easi to use and ha great sound it wa a great purchas at a great price',\n",
       " 'veri easi to set up and have no issu',\n",
       " 'thi unit add much pleasur to our echo plu we now can have music and inform through our home or just in one room',\n",
       " 'it s extrem use in simpl thing like spotifi and audibl and thing like that but sometim it doesn t answer everyth i ask but it s still nice to use',\n",
       " 'too difficult to set up it keep time out befor you can enter the password',\n",
       " 'just get use to use the echo use it for shop list listen to music and as a timer work great so far',\n",
       " 'veri cool and lot of fun use for a week and still learn it capabl',\n",
       " 'love it love it',\n",
       " 'love it but have a hard time set up all the app',\n",
       " 'i use it in my offic and anoth at my apart for music and inform',\n",
       " 'it s great for music a littl hard to figur out how it work',\n",
       " 'thi wa given to my year at the time as a birthday gift from hi dad he love it ask alexa anyth she ha the answer plu it s good for homework so i purchas one on prime day for my bathroom for when i m get readi for work i listen to music at am and the base it s metro boom replac for my clock radio plu i have the echo dot on my night stand as my alarm clock',\n",
       " 'veri impress with look clariti of sound and color',\n",
       " 'alexa is amaz great speaker',\n",
       " 'still get use to alexa don t have her connect to our tv yet or other thing right now use her for music and inform which she is great',\n",
       " 'work and sound great my hous is bare sf and i have thi sit on my kitchen counter i can hear it and speak to it from ani room lot of function still to discov',\n",
       " 'i have had pure fun with my echo weather joke news brief and music but still so much more to use it for a lot of fun for the money',\n",
       " 'use thi all the time and especi to commun with kid throughout the home',\n",
       " 'love it still learn make a lot of thing easier like if you forget to turn a light off and your in anoth room all you do is ask alexa to turn the light off',\n",
       " 'bought thi for my daughter when she turn she love it i especi like the call featur sinc she doesn t have a cell phone she love play music and danc and with amazon music she can play all her favorit song sometim over and over and over again lol',\n",
       " 'we got thi as a wed gift and haven t discov all of it featur yet will updat play music is great though',\n",
       " 'i am impress with the sound qualiti',\n",
       " 'veri pleas with my purchas of echo smart speaker love the fact that i can play music of differ genr s whenev i want had some troubl at first with the wi fi but it is now work',\n",
       " 'my wife i enjoy the eas of play our music the game are fun entertain i look forward to ad more smart product to my home',\n",
       " 'thi is my second echo and i love how it help me in the kitchen i can set timer listen to the news prepar groceri list and get great music',\n",
       " 'the sound qualiti is good just wish alexa could answer more question',\n",
       " 'thi is my second echo i have the dot but the speaker is weak so i purchas thi and for listen to music the speaker is great',\n",
       " 'great sound',\n",
       " 'great',\n",
       " 'we realli onli use thi as a speaker to stream music we ve had it month and it s just kinda useless',\n",
       " 'onc set up veri user friendli set up wasn t as user friendli as i d hope the alexa app should be abl to download to a pc without instal invas driver my wife and i are both retir and she wouldn t have been abl to instal alexa but if my son wasn t suppli her with a smart phone we wouldn t be use alexa yet',\n",
       " 'veri easi set up realli enjoy it',\n",
       " 'the echo doesn t come with a built in batteri so it ha to be plug in at all time to use it make it quit inconveni',\n",
       " 'more compact and a bit better than the origin',\n",
       " 'i love it pretti cool',\n",
       " 'i have it in my live room music sound realli good in my live room i can hear it upstair',\n",
       " 'thi is a great product set up wa easi sound is wonder',\n",
       " 'so far i like it i bought it just for some music though and it sound pretti good',\n",
       " 'love it',\n",
       " 'love it',\n",
       " 'glad i bought thi',\n",
       " 'like all type of fun music and more',\n",
       " 'i like the volum up and down on the top so i can turn it down quickli',\n",
       " 'beyond my capabl to program grandkid lve it',\n",
       " 'i love my new echo it give me hour of music and help with other thing it wa difficult for me to set it up i had to have help from a tekki',\n",
       " 'almost as good as my bose love the whole hous music',\n",
       " 'alexa hardli came on',\n",
       " 'easi setup use the app which wa also easi to instal on my phone the sound qualiti while for listen to music on pandora is wonder',\n",
       " 'i m still learn how to use the echo but so far i love it',\n",
       " 'work awesom',\n",
       " 'work great',\n",
       " 'from such a small speaker it sound great',\n",
       " 'great sound for the size and the prize and of cours alexa',\n",
       " 'if you don t have an echo you definit need one',\n",
       " 'great devic seem to work better than the st gener',\n",
       " 'item no longer work after just month of use will not connect to wifi and unrespons to reset request',\n",
       " 'i love the echo dot so easi so fun i get to drop in on my grandaught who live about mile away sound like she is right next to me',\n",
       " 'work great no differ than the new one',\n",
       " 'thi one s go in the kitchen for timer music duti',\n",
       " 'love it but the volum could definit use a boost if it had better built in speaker s would definit be a star they thought ahead and put an audio auxiliari input so i bought a dedic speaker for the echo prove to be best way to go',\n",
       " 'work just fine',\n",
       " 'work great look brand new love my new echo dot i will be get them for all the main room in the hous',\n",
       " 'for a refurbish item it work like it new which i love easi set up which i love the onli issu is the volum if you are listen while relax it fine but if you are expect to do anyth els i recommend purchas a speaker',\n",
       " 'but not veri loud',\n",
       " 'thi is our nd one and we love it',\n",
       " 'so i am not sure how i feel about the echo dot it s so mani thing that i need to get use to you have to ask her the right question or she won t understand you',\n",
       " 'thi thing bare work you have to select rd parti app to do stuff you d think it could do out of the box i m send mine back asap wast of money',\n",
       " 'gift for my man he doesn t like that you have to plug it in and the pictur do not show the cord would prefer it cordless still work though for the purpos we bought it',\n",
       " 'thi is our th amazon echo devic we have purchas refurbish befor and been satisfi thi time is no differ you can t tell thi from brand new and the price wa cheaper our echo s wake us up keep timer play music for us act as encyclopedia turn our light on and off and so much more',\n",
       " 'thi small echo dot is amaz the sound that come out are great it chang my nest thermostat and my phillip hue light without leav my chair',\n",
       " 'we talk to her all the time for song and just becaus we can there aren t dislik about thi devic',\n",
       " 'i m never disappoint with amazon technolog',\n",
       " 'work as promis',\n",
       " 'i return echo dot am onli get refund for i return in one packag i want my refund for both of them they are in the same packag can you not see them both',\n",
       " 'not work',\n",
       " 'ha weird paus in her speech pattern that are not present in my other echo devic',\n",
       " 'i sure love alexa lol thank you great price and product',\n",
       " 'it work',\n",
       " 'i m an echo fan but thi one did not work',\n",
       " '',\n",
       " 'bought for my bathroom to listen when i m in the shower love it',\n",
       " 'doesn t alway respond when spoken to with promp word i thought it would connect to my echo upstair and use it like an intercom haven t been abl to do that',\n",
       " 'fast ship and work well',\n",
       " 'i love it',\n",
       " 'love love love my new and free assist',\n",
       " 'six word alexa tell me a poop joke',\n",
       " 'it work for a month or so then it stop i ve tri everyth to tri and make it work but noth is work i want a refund',\n",
       " 'poor qualiti gave it away',\n",
       " 'refurbish is the way to go my echo work just like new',\n",
       " 'love it',\n",
       " 'we have five of them need i say more',\n",
       " 'the speaker arent too loud alexa is great though besid that naw',\n",
       " 'it work great and sound good',\n",
       " 'never could get it to work a techi friend look at it for me and said the adapt wasn t strong enough to power it and that it look like it had been bought at a dollar store so i am go to replac the adapt and hope it work then',\n",
       " 'almost like have star trek in your home fun to tri and outsmart',\n",
       " 'thi wa an add on for my echo system the refurbish product work like new',\n",
       " 'great for my offic i use thi daili in mani way to includ spell for me and background music',\n",
       " 'awesom i love alexa',\n",
       " 'i wasn t sure i realli want one of these but now that i have it it is extrem use get one you ll love it',\n",
       " 'initi thi echo dot work veri well over time the dot stop respond to alexa unless you were within one foot of it yell the other echo echo dot in other room would respond without a respons from thi echo dot would not recommend buy refurbish',\n",
       " 'great product fast ship',\n",
       " 'i bought an echo dot that had been refurbish but it stop whatev function it perform quit often doesn t wake up everi time randomli turn on but doe noth do not buy a refurbish echo dot',\n",
       " 'perfect work great no problem with it be refurbish',\n",
       " 'dont trust thi',\n",
       " 'perfect condit i love my echo',\n",
       " 'love it beauti experi especi if hook to smart light and other accessori',\n",
       " 'we just got thi within the last coupl of week from what we can tell no issu my son want and alexa for hi th birthday so she could tell him joke he could ask her question and to listen to music she doe all of that and more we all enjoy thi one so much that i just bought a second one thi week dure prime deal day',\n",
       " 'divertido',\n",
       " 'great product and work great',\n",
       " 'bought thi for the guest room it s a radio alarm clock inform center and so much more',\n",
       " 'great buy bought thi to go with my echo and love it the speaker isn t the best for music but work great in a kitchen for timer or alarm',\n",
       " '',\n",
       " 'work perfect save a few buck and buy the refurbish look brand new',\n",
       " 'look and work perfect glad i got a good deal',\n",
       " 'just as good as the new one i bought but less',\n",
       " 'i love it work veri well',\n",
       " 'everyth perfect',\n",
       " 'good price prompt ship ha been work flawlessli',\n",
       " 'i love you alexa',\n",
       " 'there s room for improv on thi for the price i cannot complain too much i can still complain howev the audio is terribl thi is kind of like listen to a speak n spell from the s',\n",
       " 'iov it i bought it for my son becaus he want it and it s awesom',\n",
       " 'it s an echo and it work for the price it s great deal have had no issu with it as with all dot the speaker is a bit tinni but good for a second unit or if you are like me you can attach it to an extern speaker for more sound good buy',\n",
       " 'thank',\n",
       " 'i want to use these as a radio and intercom as we get terribl fm recept where i live the speech recognit softwar is horribl my wife and i both are nativ american whose languag is english she is from the north i am from texa neither have an accent from our birth area and yet it doe not do a good job understand us we bought two they do the same thing addit wifi recept wa poor to margin i had to buy wifi rang extend for offic and the other is ten feet from our router both had problem switch them around no differ so it they are now disconnect dust collector',\n",
       " 'thi is my third dot they all work perfectli and i use each one multipl time a day absolut love them',\n",
       " 'item ha never work out of box it is broken spent sever day tri to get it work and run same fix from amazon the onli thing accomplish is i will never order anoth refurbish devic',\n",
       " 'i alreadi have the echo plu bought thi one for my bedroom love the function',\n",
       " 'simpl set up music everywher',\n",
       " 'work just like a brand new dot so i am veri satisfi',\n",
       " 'great product but return for new alexa dot refurbish is alreadi give me problem with connect',\n",
       " 'we have a few echo alreadi went for thi one in refurbish to save a few buck it work great i love thi new gener one becaus it ha a rubber bottom nice',\n",
       " 'i love the fact that i can unplug it and take it to my basement when i want do laundri',\n",
       " 'refurbish but just as good as the new one that i ve bought',\n",
       " 'good as new',\n",
       " 'granddaught love it',\n",
       " 'the price is great wa have troubl with it hear me from across a room but after move it to anoth spot it seem to be work fine will buy some more want in everi room',\n",
       " 'we have set up alexa to blue tooth speaker and enjoy listen to music outdoor can t wait to tri more new stuff use alexa',\n",
       " 'thank',\n",
       " 'work great',\n",
       " 'never buy certifi and refurbish echo dot i bought a certifi and refurbish echo dot thi unit is veri poor in receiv command and sometim it doe not even acknowledg the command never buy a refurbish echo dot the unit i receiv wa probabl never wa certifi and refurbish as indic i also bought a new echo dot it work perfectli veri disappoint',\n",
       " 'start here with amazon productsand i regret noth is been absolut great journey and my product continu to improv my day to day life',\n",
       " 'have now use for sever month without problem',\n",
       " 'thi is my first smart devic and i will sure be buy other devic that will be compat with thi one',\n",
       " 'love',\n",
       " 'love it just as good as a new one',\n",
       " 'have had an larger echo for some time and love it bought thi one for anoth portion of the hous sinc we have sever wifi home devic and we want to voic control them from all over the hous',\n",
       " 'love the product use to turn on my light and answer some quick question',\n",
       " 'a great buy',\n",
       " 'wa leari about refurbish but work great',\n",
       " 'veri puni sound but work great',\n",
       " 'great',\n",
       " 'exactli like new can tell the differ from my new dot i got prior to thi one work perfectli love alexa',\n",
       " 'work perfect no wear and tear on the devic i love alexa work on make my home smart',\n",
       " 'work good',\n",
       " 'the onli thing i don t like is it shut off by itself other than that it work great',\n",
       " 'excel product mint condit for a refurbish unit you would never know it s been refurbish',\n",
       " 'alreadi own a coupl of echo i wa frustrat that i couldn t also use them as intercom final amazon enabl the drop in featur so now i can use my echo to reach out to famili in remot part of the hous and teenag who insist they never heard me yell at them to come down to dinner as for it other featur we mainli use our echo for the standard stuff play music set alarm answer question etc it s not the life chang home devic amazon would have you believ but it is conveni to have around thi refurb save me a few buck look and work the same as the other brand new one',\n",
       " 'love it wa worri about the refurbish part at first but thi be my first echo it is awesom have use it for everyth my light sinc i work night and shop as well as for my spotifi and plan on get it for my parent to help them out for everyday thing we take for grant when we are young i would recommend thi to everyon',\n",
       " 'love alexa hope have her in everi room soon',\n",
       " 'the simplic of use and set up',\n",
       " 'thi is great got one for my gazebo and one upstair',\n",
       " 'work great never had ani issu',\n",
       " 'doe everyth i have ask it',\n",
       " 'work great good sound',\n",
       " 'i use thi echo to listen to music as well as a sort of research tool it can answer a varieti of question i would like if the volum could go just a littl bit louder but i can t complain i also believ it should have an intern power sourc in order to use the echo it must be plug in at all time use the univers charg cord it would be nice to use the echo dot on the go without have to buy the other product',\n",
       " 'love it great fun',\n",
       " 'love it',\n",
       " 'outstand i use all the time work just like they say',\n",
       " 'save is alway nice and my son alway say that buy refurbish mean your are get a new devic or product for less becaus it ha been run through a diagnost again and everyth ha been correct',\n",
       " 'work perfectli alexa turn on and off my light my tv roomba',\n",
       " 'never would know it wa refurbish',\n",
       " 'so far so good',\n",
       " 'look and perform as new no complaint',\n",
       " 'goe great with our echo',\n",
       " 'work great just like the new one that i alreadi had',\n",
       " 'thi item did not work certifi refurbish should mean it work as advertis instead thi item crash as soon as i turn it on and plug it in when tri to connect from my phone to the echo dot it crash over and over not onli would it disconnect but the orang light would freez and then the thing would reboot with the blue light alexa would tell me it s readi to connect and freez mid sentenc tri hold the action button for second and it didn t do anyth return immedi and hope they actual fix thi item when the next buyer purchas it',\n",
       " 'veri fast servic got what i order thank you',\n",
       " 'love it even though i m still tri to figur out all the other thing i can do with thi item it work great with my phone',\n",
       " 'none',\n",
       " 'i have echo one i bought brand new and the other is a refurbish one honestli i can t tell the differ in perform and look',\n",
       " 'a great product onc we learn how to work it thi thing is awesom',\n",
       " 'it work',\n",
       " 'doe not work all the time',\n",
       " 'love it though wish it wa portabl',\n",
       " 'of cours',\n",
       " 'you could not tell thi wa refurbish work excel i would highli recommend instead of purchas new',\n",
       " 'i got thi for my mom she love it',\n",
       " 'i love my echo dot look brand new and work perfect veri satisfi',\n",
       " 'same as new',\n",
       " 'a small problem out of the box but a rep from amazon call and walk me through a reset process which solv my issu i wa shock to get a respons so quickli and a real effort wa made includ follow up email to get thi thing work i have now and one googl clone and the more i use it and learn about it the more i like it them i also plan to instal one in my car boat and garag alexa is my new best friend lol i think gf is worri that if alexa learn to cook her time will be limit',\n",
       " 'i love my alexa dot i play game with my son ask how the weather is and i love that she work with my amazon fire tv',\n",
       " 'i like it becaus you could ask it differ question and it doe differ thing it work intermitt with my smart tv if i ask you to chang the volum it doe or doe it sometim if i ask you to chang the channel it doe or doesn t sometim i have to reset it i don t know if it s becaus it s refurbish but it s okay it s just not what i expect',\n",
       " 'so far the certifi refurbish echo dot work well it wa a littl confus to have a green ring on the echo dot and not know whi it wa there ask alexa and she said it wa becaus of a receiv a call or drop in but that wa not the case took about minut to figur out it wa a notif that i had a deliveri from amazon i believ the ring is suppos to be yellow and pulsat for a messag notif but on my refurbish echo dot it wa green and puls',\n",
       " 'it arriv quickli and wa easi to set up it wa a refurbish amazon echo dot it wa abov and beyond what i expect alexa and i have becom buddi she is a great assist',\n",
       " 'work as advertis speak clearli and research the command also get the wall holder it keep it out of the way set up is a breez just make sure you are close to the devic initi when connect your phone for some reason it made set up easier though it could be psycholog haha',\n",
       " 'love my two echo dot but the third one we order to give as a gift had a defect speaker the return process still isn t done and ha alreadi taken week',\n",
       " 'i ve alreadi return it',\n",
       " 'the refurbish echo for ha been wonder i purchas thi for my mother she love the abil to contact me without a phone listen to music weather and ask question it s been a wonder gift and work excel with no problem',\n",
       " 'work good howev the price went down the week after i purchas it',\n",
       " 'work amazingli i bought it for my daughter and she love it',\n",
       " 'i love alexa it s great help me make my appoint play the song i like what els can you do look forward for more',\n",
       " 'got thi for the bathroom love it we can listen music whe we shower',\n",
       " 'i have dot and origin and thi new one work perfectli will buy all my futur dot recondit',\n",
       " 'wa a littl hard to get it to pare up with the other but onc it did no problem at all',\n",
       " 'now i m weari about these pick up convers when you are not activ use them heard about thi happen on the news i have so thi is veri concern i wish amazon would releas someth widespread or push some firmwar to prevent thi if they have i have not heard about it yet',\n",
       " 'there s realli no dislik for alexa dot i thought cortna wa cool but alexa is an awesom applic to the famili unbeliev devic which seem aliv a must get',\n",
       " 'i am happi with the refurbish echo dot i ve had it for about two week and so far it is work perfectli even though it did not come in it origin box it look like new i m happi with thi purchas',\n",
       " 'thumb up',\n",
       " 'workreat',\n",
       " 'there wa someth wrong with the first one that no even the rep i spoke with could fix the replac wa regist to someon els when the price of the dot went down to same price as the refurbish one i bought a brand spank new one no problem with the new one',\n",
       " 'work as expect',\n",
       " 'no problem',\n",
       " 'have these in almost everi room i realli have enjoy them work perfectli',\n",
       " 'purchas for grandson',\n",
       " 'like new',\n",
       " 'happi with thi as i wa with the other i order',\n",
       " 'love the dot especi with the abil to talk from one to the other these are realli conveni no issu with the refurbish as they are like new',\n",
       " 'start take on her own haven t use it sinc i unplug it that day no one wa talk my daughter wa lay in bed next to be and she just start go on about the movi moana and complet scare the sh t out of my daughter now',\n",
       " 'it work great the speaker sound fine and overal would recommend',\n",
       " 'great just like new',\n",
       " 'love the price for an essenti brand new dot open it you realli couldn t tell that it wa refurbish everyth look brand new for less than a new unit i couldn t consid thi a better deal i realli love the versatil of the echo dot get you one while you can',\n",
       " 'pleas with the order just what i want',\n",
       " 'i think i now have of these throughout the hous so conveni to set a timer or check the weather or whatev wherev',\n",
       " 'love it the best my experi with refurbish devic is excel',\n",
       " 'love the echo dot',\n",
       " 'thi refurbish item wa fine but i wasn t awar that there is a fee for have other echo set up in the room howev it wa miss the cordthank you',\n",
       " 'two week after set it up it no longer work no connect no light no sound i guess i shouldn t have purchas a refurbish dot',\n",
       " 'it work like a brandnew unit great addit to my collect',\n",
       " 'great price work perfectli save the money on a refurb would buy again',\n",
       " '',\n",
       " 'veri god',\n",
       " 'not good at all',\n",
       " 'these are great i bought one and then bought anoth right away grab a few of these and a few smart switch and you re set with smart home capabl for under highli recommend',\n",
       " 'just like new',\n",
       " 'work as it should still need to figur out how to link to other devic though onli set up sono which wa pretti easi not the product fault just have not had time to figur it out',\n",
       " 'veri use',\n",
       " 'thi is the worst amazon purchas i have made i am big amazon fan love the brand unlimit digit music prime video even buy my onlin game music and movi through amazon thi app i have tri to use it make simpl purchas to do anyth it is useless',\n",
       " 'work veri well but the microphon don t pick up as well as the full size echo audio qualiti is okay for the size',\n",
       " 'i bought two refurbish one for work and home they both work perfectli and appear brand new',\n",
       " 'amazon doesn t disappoint',\n",
       " 'work great as a bt receiv with output connect to vintag stereo equip',\n",
       " 'work great thi far can t tell it s not new will edit for longev in a year that s the real test',\n",
       " 'amaz',\n",
       " 'i love everyth',\n",
       " 'thi use dot work fine it compliment my echo',\n",
       " 'work like a new one can tell the differ from the new one i bough and the refurbish one',\n",
       " 'well i m a big fan of echo these one went i m my bathroom work just great as expect',\n",
       " 'purchas for my year old mother she love talk to alexa veri respons can detect it name from all over the room',\n",
       " 'thi is just like new same perform as our brand new one no problem',\n",
       " 'the echo dot disconnect from the speaker about time a day do not buy the refurbish product star for effort',\n",
       " 'love it great product',\n",
       " 'it work good veri satisfi',\n",
       " 'i love alexa but the sound on the dot is not the best i own an echo nd gen for the kitchen live room and got thi for my bedroom but there s a signific differ in sound the dot lack a full base sound and sound as if it s come off a cheap portabl speaker i wa realli disappoint i return it right away and just shell out the money to buy a second echo for my bedroom also',\n",
       " 'took me awhil to get it connect i m not electron savi but now that it is i love it',\n",
       " 'cant seem to get thi thing to sink with my wireless not sure if i will be return it will tri one more time',\n",
       " 'absolut love it',\n",
       " 'product stop work after return time ran out',\n",
       " 'second dot work great for refurbishedthought it wa new',\n",
       " 'love these guy they work so great',\n",
       " 'i love thi as a second alexa in our bedroom great for check weather for medit music and as a timer perfect for my husband who ha to use eye drop multipl time each day and keep hi eye close for minut',\n",
       " 'i purchas thi refurbish work just like brand new minut set up veri easi now i have echo dot that i can command to start play music for my backyard deck sound system',\n",
       " 'not substitut for the origin the echo dot perform well but sound qualiti is poor to listen it ha to be at the highest level',\n",
       " 'love the echo dot help husband get netflix and other app on our amazon fire tv no problem with it be refurbish plan on get anoth one for the amazon fire stick in bedroom',\n",
       " 'stop work after month the warranti wa onli good for month i would have assum an amazon product sold on amazon would have had higher standard than guarante that it would work for whole month i mean what is thi product suppos to be a piec of junk they offer my a discount if i want to buy anoth one whi would i want to buy anoth one',\n",
       " 'just like new no problem whatsoev alexa thank you',\n",
       " 'i like my uncl but sometim it goe a littl haywir',\n",
       " 'bought thi for my son and it didn t work he had to return it',\n",
       " 'bought and both quit connect to wifi and respond to voic within month hard and soft reset will not fix the problem',\n",
       " 'i receiv my echo dot today in good condit but be advis i paid for it and amazon ha as of thi write rais the price to so do your research befor buy so you can get a good deal set up with the dot went simpl enough plug it in follow the app instruct except initi it took a while to actual show up in my iphon s wifi set i call amazon custom servic and i dunno what it is but late i ve been get terribl support the guy that took my call just rambl off a complet unhelp script and i end up set up the dot while he wa in the middl of hi spiel i m not sure if thi is the norm or if it s becaus thi is refurbish but the dot ha a pretti finicki wifi rang and randomli disconnect even though the app show that the rang of my ghz connect is strong reconnect is a pain each time as well all that said when alexa work she work amazingli well i don t have a speaker hook up to it but one thing i realli enjoy is the mic s rang and sensit one of the more annoy limit of appl s siri is that when she s play audio through devic speaker music podcast etc the hey siri featur is all but useless alexa ha no problem hear me over whatev is play at the time and with amazingli fast respons too i haven t tri thi with louder speaker yet so i m not sure if thi will continu to hold true set up alexa to control all my wireless devic wa a breez albeit with limit support for arlo devic is nil and if you have special set for your led devic eg rainbow effect alexa can t handl them she onli know how to chang solid color and bright level all in all my rate would ve been lower had i not gotten a decent price on thi item if the connect problem persist i may have to exchang return thi item i don t want to though alexa s kind of grow on me',\n",
       " 'i bought it becaus everyon wa say how much they love their but i have no need for it i onli use it onc the volum wa not loud enough for me when i play music while i wa on my treadmil so i rather use my tower speaker which is xs louder',\n",
       " 'work like new will do it again',\n",
       " 'the second one which wa a refurbish model did work at least not in my home',\n",
       " 'veri bad thi devic i don t know if it s becaus is refurbish or what but it activ by itself nobodi is talk and he just activ and start talk when you talk you have to yell super laud',\n",
       " 'good as new just like brand new save yourself some money get one',\n",
       " 'ad more room for conveni',\n",
       " 'nice it work good some time is not easi to recogn your voic and you have to repeat sever time some time almost scream',\n",
       " 'i took a chanc on a certifi refurbish unit for look brand new no excus or disappoint minut troubl free set up effortless bluetooth speaker connect through the alexa app on my iphon wa flawless listen to my favorit tune through a bose bluetooth setup and couldn t be happier walk through the door and just ask alexa to play s music and viola instant atmospher no more open the ipad go to set turn on bluetooth and then access the pandora app it just make thing so effortless a true joy right out of the box if i didn t discov ani other use for thi fine piec of technolog it wa worth everi penni',\n",
       " 'alexa s sister my second dot',\n",
       " 'love my alexa echo dot i have two of them now one new one refurbish both work great and it ha becom my go to for sooo mani thing i love it as an alarm everi morn or whenev i love it to play music or sound of the ocean or natur sound when i am tri to sleep just love it for so mani thing',\n",
       " 'bought a refurb and it work just as my new one i bought prior came in origin packag as well',\n",
       " 'love it it s like have a second wife',\n",
       " 'so far not impress at all doe not save group correctli can not understand me most of the time i m not sure what the excit is all about alexa voic sound like it s under water how am i suppos to understand i m go to return and tri a googl home',\n",
       " 'work well and ha no obviou issu from be refurbish',\n",
       " 'work great can t tell it wa refurbish and set up in kid mode i have in my home and will be ad more i love these thing',\n",
       " 'great product but useless overal too mani unnecessari featur unless you have a smart home you don t need it',\n",
       " 'work just as good as the two new echo dot i precious purchas',\n",
       " 'i bought thi for my mother and she is in love with it she love the guard dog featur she say that it give her a sens of secur at night and when she leav the hous',\n",
       " 'i bought it mainli to be a speaker when play music or video on my phone not work for me read instruct but not work for me',\n",
       " 'it work',\n",
       " 'bought two of them and both work great i m not much on electron run my home but alexa doe all that i want and need to be done',\n",
       " 'nd one more to come',\n",
       " 'blue light blink all the time',\n",
       " 'fun and use we re still learn new trick and use function thi is the futur of human to comput interfac and household autom just like star trek who knew it would be here so soon',\n",
       " 'work great to control the tv light and variou other devic late i ve been use it when i wake up and don t know what time it is but don t want to open my eye just shout out alexa what time is it if i could just figur out how to get it to do hous hold chore and walk the dog it d be golden sound is not that great but with it size what can you expect the echo plu ha much better audio but that is what you get with the larger more expens echo',\n",
       " 'work great',\n",
       " 'wasn t sure if i d like thi product but after have it for a littl while i want one in everi room my daughter is constantli ask alexa how to spell word we ve bare tap into all the thing thi product is capabl of and i m look forward to learn all of it capabl',\n",
       " 'a',\n",
       " 'great product work well',\n",
       " 'absolutli love it',\n",
       " 'bought my first echo dot and love it so i got thi for work absolut love it',\n",
       " 'work as promis',\n",
       " 'work great with my exist smart home setup',\n",
       " 'perfect could not tell the differ from a new one',\n",
       " 'i cant figur out how to use it',\n",
       " 'good sometim can t hear well',\n",
       " 'i wa a littl apprehens about buy a refurbish electron product but with amazon s guarante thought i would tri it glad i did and will probabl buy anoth refurb product form amazon i love the alexa product and have sever thi one sit on my desk ha a small footprint but ha great sound and i use it daili work great',\n",
       " 'not bad bad speaker for sound',\n",
       " 'thi is a great devic we mainli use it to verbal add thing to the shop list but occasion use ani number of the fun thing you can program it to do like go to red alert or make the tardi land ye we re a hous of geek we even chose the wake word to be comput instead of alexa now we just need majel barret s voic and i will be in geek heaven it s not as easi to get my premium spotifi to work properli with it and still not sure how we can get multipl music account attach so we can listen to differ music in differ room but so far it s still been worth it i am often ask it the time the weather it even give us a news brief we also use it as an intercom system which ha been realli awesom plu it s fun know the nsa is listen to everyth',\n",
       " 'we all love her',\n",
       " 'i purchas thi for my daughter and we all love thi it amaz we love the game',\n",
       " 'it doesn t alway work',\n",
       " 'good as new perfectli packag and i have had zero issu with the dot',\n",
       " 'love it bought for my granddaught who is for her to play music and ask question she is entertain for hour good buy in my honest opinion',\n",
       " 'no issu work and look great',\n",
       " 'thi is a fun toy my daughter have me it it read to me',\n",
       " 'refurbish echo dot receiv as new condit as new packag no complaint neat littl gadget drive my wife nut',\n",
       " 'i receiv an echo as a gift love it so much i decid to get the dot for my bedroom both veri easi to set up but a big differ in the sound qualiti i would still buy it again',\n",
       " 'work as advertis thank',\n",
       " 'all the new amazon product i have are great everyth i bought refurbish is complet garbag i will never purchas amazon refurbish again total dissatisfact',\n",
       " 'work good microphon is not as good as the better echo product',\n",
       " 'took a littl work to set up but i final got it sound qualiti not the best but for what i got it for it work great i check weather and ask a few cook question in the kitchen with it i do play the radio on it when i want some music but will probabl upgrad to the echo plu for better sound',\n",
       " 'love alexa these are the best thing i have ever bought don t know how i ever live with out these thing amaz so happi with thi product just wish it would use googl to',\n",
       " 'i love it it work great',\n",
       " 'extrem low in volum',\n",
       " 'i had some troubl get the program download from my phone i end up use my comput it is interest that the answer come from wikipedia howev i will give echo dot an a in the music play depart i heard song and music total forgotten on the mainstream station also amus when alexa respond i don t know that whi doe she think the yard of cotton fabric refer to footbal play if i had paid full price for thi gadget i would have been sore disappoint now it seem reason and a step abov hal',\n",
       " 'brought to replac one that i move and doesn t have the same rang as my previou non refurbish unit it would seldom be abl to find the wi fi and couldn t connect got tire of hear the messag troubl connect check the alexa app and just unplug it i went through the troubleshoot and reconnect it sever time it s just not as strong',\n",
       " 'if you want to listen to music and have it come through sever of the echo dot unit simultan you must pay a monthli fee i thought thi wa amazon not appl i ve paid for mani of these so i could have one in each room is that not enough of my money',\n",
       " 'purchas as a gift',\n",
       " 'love it',\n",
       " 'overal good devic it wa bought for a workout room and ha issu reach a volum that can be heard over a standard row machin it could use a much better speaker',\n",
       " 'work great and simpl to set up alexa is way more accur than i imagin so im use it more than i thought wish alarm could be set a bit further out but that my onli complaint no she s not listen when you don t say the wake word so if you re worri you can lose the conspiraci theori the speaker is great too so don t hold off on get one if you were turn off by gen like me',\n",
       " 'the voic clariti ha made my eavesdrop effort so much easier the govern',\n",
       " 'work perfect',\n",
       " 'had a littl troubl at the begin until i replac my old router and it work good except for current temperatur and at time alexa will be off by as much as degre like when it wa degre alexa would say it wa degre otherwis everyth work as expect and enjoy listen to music from amazon and my pandora station and request my favorit song or record artist',\n",
       " 'i bought three of these and all three have work flawlessli if they weren t label as refurbish i wouldn t have known',\n",
       " 'thi devic work perfectli and wa a good price we love alexa and are have great fun with her the music is great and we get the radio station we need for our morn traffic report i didn t think i would enjoy have ai in the hous but it is fun educ and entertain even for peopl who aren t tech savvi',\n",
       " 'eh it s work on and off half the time it doe not respond when you say wake up name other then that work fine',\n",
       " 'great littl thing work better than siri',\n",
       " 'it s amaz i love it',\n",
       " 'bought thi for my son and he love it',\n",
       " 'i own the first and second gener echo dot i think i prefer the volum ring of the first gen better than the button on the second gen but still more than doe the job and great for the price i got it for i d still definit recommend',\n",
       " 'veri fun to use and have morn brief',\n",
       " 'arriv on time and work amaz',\n",
       " 'just like new set up wa quick easi',\n",
       " 'like new good refurbish',\n",
       " 'love it',\n",
       " 'love my echo dot',\n",
       " 'i like that it know my music type the least is that it isn t wireless and the volum is not that high',\n",
       " 'great product',\n",
       " 'it work great but the reason i m leav star is becaus it wont play unless it plug in the whole time pretti irrit especi when there is no outlet avail',\n",
       " 'work great',\n",
       " 'i love it ita like have a person assist and comput and everyth els in one',\n",
       " 'the problem i have with thi item could just be my inexperi i order the wrong thing but then decid i d set it up and use alexa i wa tri to replac a small bluetooth speaker in my bedroom thought i could learn as i go i download the app but never could get the echo to sync with my iphon i ve decid to give thi to one of my kid and they will probabl enjoy it and use it as it is intend',\n",
       " 'es perfecto',\n",
       " 'work good so far',\n",
       " 'work great and my daughter love it',\n",
       " 'work great',\n",
       " 'i love it',\n",
       " 'i want a white dot for my white bathroom the top is black as shown which i knew but i did not realiz the cord and plug were also black i want a white cord and plug',\n",
       " '',\n",
       " 'work great',\n",
       " 'amaz',\n",
       " 'great product',\n",
       " 'work perfectli',\n",
       " 'perfect',\n",
       " 'i set up the echo dot and it work for an hour and then die complet do not buy refurbish i sent back for return the day after i receiv',\n",
       " 'thi echo dot is horribl the volum on my phone is louder than than thi devic my boss ha one at thi is not the case',\n",
       " 'overal it work veri well some connect issu but it wa definit worth the money',\n",
       " 'have had no issu with thi refurbish unit it perform expect i would buy anoth one if need',\n",
       " 'great for mom it insid an owlhead in her jacuzzi',\n",
       " 'work great i put thi in my son s room and use the drop in option to get hi attent when he is game or watch tv',\n",
       " 'it wa perfect',\n",
       " 'it look brand nrw i have noth to complain about i will defent be order more',\n",
       " 'it s ok the speaker is pretti terribl googl home is a better product',\n",
       " 'i love it',\n",
       " 'i love thi answer all my stupid question and tell me the weather for when i don t get off the couch',\n",
       " 'the first one quit work shortli after i got it the next one becom unrespons to my voic at time and the onli way to get it to work is through the app i am not sure if it just thi dot or they are all thi way',\n",
       " 'bought thi to go in my niec s room you can t tell it s refurbish it look good and work like new',\n",
       " 'devic wa not work follow all instruct for alexa echo dot and it did not come on veri upset',\n",
       " 'sent it back due to crackl nois and turn itself off and on but what can you expect with a refurbish item',\n",
       " 'best price we could find and it is so use to have her around to answer question it is so handi to not have to find your phone i also now have an intercom system',\n",
       " 'i have never been more satisfi with a product perfect introduct to alexa',\n",
       " 'work well but the speaker is not so grand get anoth speaker to drop thi into in the futur i would have just gone with the full size echo',\n",
       " 'love our echo thing the full size version sound better though',\n",
       " 'work great',\n",
       " 'it ha all i need for my life plan time date music',\n",
       " 'seem to have troubl hear me when i say the wake word despit be train to my voic wonder if thi ha someth to do with buy it refurbish our googl home mini ha no problem hear us and is much louder',\n",
       " 'love it work perfectli',\n",
       " 'i had a brand new echo dot and thought that the refurbish would be just as good it wa quit differ from my expect refurbish unit did not even turn on and after a while i realiz that the power adapt wa faulti there is no way for me to have amazon send me a power adapt by itself accord to the return option i love amazon and buy even my toilet paper through them but thi wa truli a let down updat amazon contact me and credit me enough to buy a new power adapt thi is whi i shop on amazon i can alway trust them to deliv on their product',\n",
       " 'i bought thi for a famili member as a gift i call her to see how she like it she said she love it',\n",
       " 'not veri loud but qualiti and eas of use is great sound is perfect for background music would suggest or more connect togeth if you re tri to use for host a louder parti',\n",
       " 'look brand new work great i love these echo dot and the refurbish one are like new',\n",
       " 'my nd one and i use them all the time',\n",
       " 'is work like a new one for now l have anoth alexa devic lm a fanat',\n",
       " 'echo is good',\n",
       " 'work great',\n",
       " 'great price to extend the rang and super valu to dot offer hook up wireless speaker to use work outsid thi dot made outdoor sound rang possibl without disturb indoor light control possibl',\n",
       " 'amazingli fun my daughter and i just ask question on the first day i have now set my daili alarm weekend remind playlist morn show random song daili bibl vers weather and morn commut it tell me which way to go dodg traffic you have to get one i don t have it link to my phone yet',\n",
       " 'work perfect there s no differ at all between thi refurb one and my new one that i have in my hous i ll be buy the refurb from here on out',\n",
       " 'great product wake me up everi morn on time',\n",
       " 'like new no differ from new unus origin',\n",
       " 'i have no complaint as far as i know these are exactli like new just a littl cheaper great',\n",
       " 'perfect condit',\n",
       " 'like new',\n",
       " 'it work just as well as the new version i got as a discount with my echo speaker i decid to purchas thi version becaus amazon state it ha the same warranti',\n",
       " 'i receiv the echo as a gift i need anoth bluetooth or someth to play music easili access and found thi smart speaker can t wait to see what els it can do',\n",
       " 'without have a cellphon i cannot use mani of her featur i have an ipad but do not see that of ani use it is a great alarm if u r almost deaf you can hear her alarm in the bedroom from out in the live room so that is reason enough to keep her it is fun to ask random question to hear her respons she doe not seem to be veri smartbon polit yet',\n",
       " 'i think thi is the th one i ve purchas i m work on get one in everi room of my hous i realli like what featur they offer specifili play music on all echo and control the light throughout my hous',\n",
       " 'look great',\n",
       " 'love it i ve listen to song i haven t heard sinc childhood i get the news weather inform it s great',\n",
       " 'i sent it to my year old dad and he talk to it constantli',\n",
       " 'i love it learn knew thing with it eveyday still figur out how everyth work but so far it s been easi to use and understand she doe make me laugh at time',\n",
       " 'i purchas thi for my mother who is have knee problem now to give her someth to do while tri to over come not get around so fast like she did she enjoy all the littl and big thing it can do alexa play thi song what time is it and where and how to cook thi and that',\n",
       " 'love love love',\n",
       " 'just what i expect',\n",
       " 'i love it wife hate it',\n",
       " 'realli happi with thi purchas great speaker and easi to set up',\n",
       " 'we have onli been use alexa for a coupl of day and are have a lot of fun with our new toy it like have a new household member we are tri to learn all the differ featu and benefit that come with it',\n",
       " 'we love the size of the nd gener echo still need a littl improv on sound',\n",
       " 'i like the origin echo thi is the same but shorter and with greater fabric color choic i miss the volum ring on top now it s just the plu minu button not a big deal but the ring w as comfort other than that well i do like the use of a standard usb charger port instead of the previou round pin other than that i guess it sound the same seem to work the same still answer to alexa echo comput so what s not to like',\n",
       " 'love the echo and how good the music sound play off it alexa understand most command but it is difficult at time for her to find specif playlist or song on spotifi she is good with amazon music but is lack in other major program',\n",
       " 'we love alexa we use her to play music play radio through itun play podcast through anypod and set remind we listen to our flash brief of news and weather everi morn we reli on our custom list we like be abl to voic control the volum we re sure we ll continu to find new use sometim it s a bit frustrat when alexa doesn t understand what we re say',\n",
       " 'have onli had it set up for a few day still ad smart home devic to it the speaker is great for play music i like the size we have it station on the kitchen counter and it s not intrus to look at',\n",
       " 'i love it it play my sleep sound immedi when i ask',\n",
       " 'i got a second unit for the bedroom i wa expect the sound to be improv but i didnt realli see a differ at all overal not a big improv over the st gener',\n",
       " 'amaz product',\n",
       " 'i love my echo it s easi to oper load of fun it is everyth as advertis i use it mainli to play my favorit tune and test alexa s knowledg',\n",
       " 'sound great love them',\n",
       " 'fun item to play with and get use to use sometim ha hard time answer the question you ask but i think it will be better',\n",
       " 'just like the other one',\n",
       " 'still learn all the capabl but so far pretti pretti pretti good',\n",
       " 'i like it',\n",
       " 'she work well need a learn command for uniqu owner and user like alexa learn tasha s birthday or alexa learn my definit of fine etc other than that she is great',\n",
       " 'the speaker sound pretti good for be so small and setup is pretti easi i bought two and the reason i onli rate it a is i have follow the instruct for synch music to both unit i know i ve done it correctli but they won t sync that wa my primari motiv for purchas multipl unit',\n",
       " 'thi devic is awesom',\n",
       " 'i bought thi to compar the speaker qualiti to our first gener speaker and i like the sound better i will ship thi to my daughter though becaus i like the fact that my first gener ha a chargeabl base that we bought which keep it more mobil and she need a better sound than what she ha now',\n",
       " 'love my echo still learn all the thing it will do wasn t abl to follow instruct includ in the packag but found a great one on u tube',\n",
       " 'speaker is better than st gener echo',\n",
       " 'thi thing is way cool you should get one if you want to be cool that is',\n",
       " 'thi is my first digit assist so i m give thi a good review speaker is realli good for the cheap price on prime day fun to play with and can be use as an alarm clock that s what i wa go to get in the first place but i end up with echo if you haven t had a go with one then definit tri it what i like best is the number of other devic that it can connect with my purchas came with a smart plug for which i connect my lamp to alexa turn of the light',\n",
       " 'my husband like be abl to use it to listen to music i wish we knew all it s capabl',\n",
       " 'my android would not allow alexa to connect fortun my sister wa here with her appl cell after an hour tech support fix the glitch we are up and run',\n",
       " 'so far so good',\n",
       " 'tri to play certain broadway show like camelot and it give ne the group camelot',\n",
       " 'great',\n",
       " 'veri satisfi with the echo alexa now control the light in my famili room and my wife can listen to jimmi buffet by just ask alexa',\n",
       " 'it s like siri in fact siri answer more accur then alexa i don t see a real need for it in my household though it wa a good bargain on prime day deal',\n",
       " 'love my echo still learn how everi thing work but have ton of fun',\n",
       " 'i love you so much',\n",
       " 'no differ than appl to play a specif list of music you must have an amazon of spotifi plu prime etc account so you must pay to play your music star for that reason everyth els is',\n",
       " 'excelent lo unico es que no esta en espa ol',\n",
       " 'i m still learn how to use it but so far my echo is great the sound is actual much better than i wa expect',\n",
       " 'work as you d expect and then some also good sound qualiti consid price on sale and featur',\n",
       " 'the sound from thi echo nd gener is phenomen not to mention that i just love alexa she is veri help',\n",
       " 'like googl better',\n",
       " 'just had to have it and now let play and learn how to get the most out of it',\n",
       " 'work as advertis veri easi to setup still learn what thi can do',\n",
       " 'great sound and easi to set up',\n",
       " 'love alexa bought other for friend',\n",
       " 'love the echo i purchas it for compani for my husband he is and alexa is great all he ha to do is say her name and she tell him a joke and play hi favorit song',\n",
       " '',\n",
       " 'love be abl to listen to music easili still learn all the featur avail',\n",
       " 'did t realli know what i could use thi devic for use it for a few thing but need an overview',\n",
       " 'love thi just wish it had a built in hub',\n",
       " 'i use it primarili to play music it work wonder still get use to some of the mani thing it will do amazon ha sent sever tip sinc i got it thank for all your help',\n",
       " 'how easi if wa to set up',\n",
       " 'fast respons which wa amaz clear concis answer and sound qualiti is fantast i am still get use to alexia and have not usd echo to it full extent',\n",
       " 'you re all i need na na nana',\n",
       " 'doe everyth as expect and more',\n",
       " 'i love my echo work just like they said it would i don t have a smart home so i cannot speak about that function but everyth els about it is good',\n",
       " 'great sound in a small packag easi to set up and use fun to own',\n",
       " 'work and sound great',\n",
       " 'the sound is amaz and mani collect of all music',\n",
       " 'set up',\n",
       " 'she doesn t alway listen',\n",
       " 'it s awesom',\n",
       " 'i bought thi becaus it can control fio televis it work well i m hope over time it will do more to control fio then i discov all the other thing alexa can do play music you ask for great sound from alexa play game play radio station play old time radio program like the long ranger alexa ha mani app you can add to her abil the other day i play madlib great fun also alexa can control household applianc i just purchas alexa compat power strip to control light fan and tv compon i m look forward to implement thi control you can also add other alexa compon to have chosen music to play in all room where the compon are locat',\n",
       " 'the speaker ha excel sound and work perfectli',\n",
       " 'i like it all',\n",
       " 'i love it it doe everyth',\n",
       " 'i wa a littl nervou when i receiv my new echo as i m not realli tech savvi i found it a bit intimid at first but it didn t take me to long to figur it out i m veri happi with my purchas and now think of ad an echo spot',\n",
       " 'i like it and still learn how to use it',\n",
       " 'great technolog can t believ the speaker volum and qualiti is so wonder wish i had bought anoth one',\n",
       " 'i purchas an echo dot for my husband for father day he use it constantli and after hear the qualiti of sound of the echo nd gener it wa a no brainer best gift ever',\n",
       " 'work fine',\n",
       " '',\n",
       " 'clear music',\n",
       " 'fun to use good sound qualiti',\n",
       " 'the echo work well i wa abl to sync it with my other amazon music devic',\n",
       " 'work great but i don t think amazon should charg anoth cent for unlimit music when you have prime and buy an echo',\n",
       " 'alreadi had an echo dot the echo is even better with fuller sound also dure setup it now let phone call to be made to my contact list which is great',\n",
       " 'the speaker sound realli good',\n",
       " 'good sound work well',\n",
       " 'love it and alexa i am not veri savvi but support wa veri help and patient',\n",
       " 'love it i wa think about get one and when the prime day discount wa offer i could not pass it up it s fun to ask alexa to play ani song or group and she come up with a playlist from amazon prime music you can also connect your iphon with bluetooth and play music with pandora or youtub video use alexa as a speaker i ve been have fun ask alexa differ type of question or for inform like weather news or even the time in other countri the onli downsid is if you have limit data on your wifi plan becaus alexa use burn it up when play music',\n",
       " 'we like it all so far but have a lot to tri out yet',\n",
       " 'love it am use it strictli for music now and it s great',\n",
       " 'love the echo i love the size materi and speaker qualiti i have it hook up to one light easili and will work on addit light and thermostat next is echo dot for bedroom there is a lot more to do with echo that you think traffic weather trivia etc',\n",
       " 'love it',\n",
       " 'the entir famili love alexa echo she s now a part of thi famili',\n",
       " 'great fun get to know all the function of thi product wow famili fun and homework help talk with other grandchildren who also have an echo is a huge bonu can t wait to learn more and more and more',\n",
       " 'love it',\n",
       " 'awesom thing love alexa',\n",
       " 'it work exactli as expect and the speaker ha great sound it is perfect for my classroom',\n",
       " 'love love thi new littl gadget ha made our live so much easier it s like have our own person secretari live here in the home we hardli need our cd s anymor sinc alexa play everyth we need go to get the alexa dot soon for more room thank',\n",
       " 'the speaker is of surpris qualiti happi with the purchas',\n",
       " 'veri easi to set up work wonder and i love it',\n",
       " 'i m realli impress with the sound qualiti when play music from thi devic the bass sound almost like it s come from a bigger speaker so prop to amazon',\n",
       " 'it s still a great product but the sound qualiti doe seem wors don t get me wrong you definit get use to it within an hour but it definit feel like echo gen sound qualiti wa better besid that it s great with the addit of be abl to play just over bluetooth with no wifi it s even better',\n",
       " 'the outlet doe not work with it wa disappoint in that',\n",
       " 'great devic respons and help',\n",
       " 'sound is terribl if u want good music too get a bose',\n",
       " 'i like the sound what is troubl is that i paid extra money to have access to a million more song sometim it doesn t work ex alexa play italian song don t have or don t understand or play the opera tosca respons sorri i don t have that',\n",
       " 'easi to set up and use too bad it ha to be plug in would be nice to take it outsid and oper on batteri and recharg',\n",
       " 'still learn all the way to use it it is a real hit with my grandkid who ask it to play music and then danc to it and yr veri cute',\n",
       " 'out of star i gener like thi product it great at do what you ask of it like play music set timer and make call reason whi i didn t rate it out of is that sometim the connect die and my echo stop play music and show a red ring seem to be a connect issu overal great product',\n",
       " 'work great upgrad from echo dot to full size echo couldn t be happier',\n",
       " 'it s alexa what els can you say',\n",
       " 'upgrad from my lilttl echo dot happi with sound',\n",
       " 'excel product set up with eas as well',\n",
       " 'i ve had the first gen echo sinc it first came out and it ha work well for me i purchas the nd gen dure prime day and so far i m happi it seem to have an improv speaker which provid enhanc sound for music and such',\n",
       " 'i love my echo smart speaker i love the volum and clariti it wa easi to set up it a wonder gift for ani age',\n",
       " 'wonder product and fast deliveri',\n",
       " 'initi harder to set up call tech wasn t that knowledg now work great',\n",
       " 'it wa veri easi to set up and my famili love it s',\n",
       " 'ha great sound and is veri respons my voic and command',\n",
       " 'how did i live thi long without the echo you get to enjoy ani music style just my ask alexa go to up gread to the wireless love the echo love you too alexa',\n",
       " 'veri cool product speaker sound good with my spotifi blast through it',\n",
       " 'have so much fun with alexa love be abl to listen to music when i m across the room or busi do someth els',\n",
       " 'so far it seem to be a veri nice item it pick up on my voic and understand me without ani problem the other day i ask it to turn down the music from the next room and it heard me just fine i ve onli use it to listen to music and check the weather but it ha done both of those thing veri well',\n",
       " 'love our echo',\n",
       " 'i love it she is veri help i use her for rememb thing and sleep you can ask her just about anyth i have onli had her for about a week so still learn her',\n",
       " 'it s better than the st gen in everi way except for one i realli miss the ring at the top for volum control it wa quicker and easier to just grab the top and twist without have to look at the button and find the one and press it a few time i also wish the bass wa a bit better all in all it s a great devic and i m happi with it',\n",
       " 'i love have an alexa',\n",
       " 'so far i like it',\n",
       " 'i am thoroughli enjoy my ecoo love to have it read my audiobook to me while in the offic and then i can simpli open the audiobook on my kindl to continu it when elsewher wonder for listen to music when not in the mood for a book great for set remind for myself too and so much more',\n",
       " 'still love it',\n",
       " 'love it',\n",
       " 'i love the sound qualiti of thi unit it is a veri clear sound',\n",
       " 'i just thi for listen to talk radio in the morn and turn light on and off etc the system doe an excel job as a full hous sound system stream siriu',\n",
       " 'i have had for onli a week so i am still learn all that alexa can do it is a learn process i love the music i can call up ani time i listen to podcast and radio station i have just start keep shop list and groceri list which i love i don t have to search for paper and pencil get time and temperatur are great do not have to wait for weather report the sound is good i am not fussi about woofer tweeter base etc the echo is fine for me thi afternoon i am go to tri drop in on my son when he get home go to surpris him',\n",
       " 'not much featur',\n",
       " 'great sound qualiti great featur great product multi room music is veri cool',\n",
       " 'cool',\n",
       " 'everyon should have an echo or two or three or more i bought my echo through qvc',\n",
       " 'it s annoy that everyth they show alexa as be abl to do ha to be download you spend so much time tri to figur out how to phrase it for the machin that you may as well just look it up yourself',\n",
       " 'i have had alexa sinc the begin i accident spill water on her and have replac it with the nd gener i decid i couldn t be without an echo setup wa easi and had it work within minut',\n",
       " 'i like be abl to tell alexia the music i want to hear but sometim she ha troubl find the song if i am not veri specif about the titl',\n",
       " 'i like the look better than the origin echo i move my old echo to the basement famili room nice sound',\n",
       " 'the echo is wonder but i m still learn how to use it music request are somewhat limit',\n",
       " 'doesn t know half the thing ask can t recogn my sprinkler wifi control even though product detail say it is compat can t program or chang my wifi thermostat set and it match up on same wifi router just a handi music player that s if you have amazon music',\n",
       " 'love it',\n",
       " 'awesom understand my kid',\n",
       " 'we were pleasantli surpris at the sound qualiti and the mani featur how nice to easili hear a particular artist or hear our book just by a simpl command look forward to explor other option with thi devic',\n",
       " 'met and exceed my expect easi set up and is realli quick in respons',\n",
       " 'i like the fact that i can get ani kind of music from prime that i want on request from alexa i like the inform photo littl pamphlet but wish it includ how to connect your tv etc to the command from alexa but i realli love have the music',\n",
       " 'i have not found a way to access my echo thorough my prime account i think it should be part of the top line with video music etc i also think the setup app where i defin for exampl music i like is not well integr into echo i have tri to ask for my playlist and echo is not sure even though i set up play list in my set i also do not like the fact that my word have to be exact match of my playlist name which i can never rememb i like the readi natur of echo to respond to most ani queri',\n",
       " 'thi is great item and just ad audibl book which make it even better thank you',\n",
       " 'dure prime day thi nd gen echo wa on sale so i couldn t resist thi wa the begin to my smart home set up and i couldn t be happier to say that alexa ha done an amaz job connect to all of my smart devic thank to her i can control my light smart plug tv etc i had no troubl connect the echo to my wifi and my phone the app work perfectli fine and it let s you add skill routin smart devic timer and so much more sound qualiti is good enough for me sinc i am not an audiophil alexa can hear my voic even when watch movi at a high volum design is great and modern it will definit add a nice touch to your home and you can chang the cover if you d like as there are more for sale overal thi is a great addit to my home and enabl so mani possibl if you haven t yet be sure to add alexa to your home',\n",
       " 'versatil and fun',\n",
       " 'work great killer speaker my wife and son love it',\n",
       " 'we regret wait so long to purchas thi item we are both surpris and pleas with the sound qualiti',\n",
       " 'stop work after week didn t follow command realli fun when it wa work',\n",
       " 'so far love it work on get more thing set up love the groceri list app',\n",
       " 'it perform pretti much as expect but i am veri disappoint it will not provid me with the terminolog i need to play variou kind of music without subscrib to the amazon music servic i understand my music choic may be limit but without know how to ask i cannot access the music that is provid free along with my echo purchas do you have a chart show the languag i need to use',\n",
       " 'easi to set up',\n",
       " 'i like the product except that the speaker are not the high qualiti i expect',\n",
       " 'a great invest alexa ha help me out and made me laugh',\n",
       " 'yet anoth exho for our home and love them all',\n",
       " 'i love it i can plan ani gender of music from big band to jazz not easi to find on local radio sound is good and i can stop it with a voic command if i get a phone call',\n",
       " 'good valu',\n",
       " 'super easi set up and am love our new echo',\n",
       " 'what not to like about thi speaker just ask alexa',\n",
       " 'best father s day gift dad joke to my mom that alexa will be the one listen to all of hi repeat stori go forward',\n",
       " 'great addit to our breakfast room kitchen tune and inform instantli avail slowli learn more featur',\n",
       " 'sound qualiti',\n",
       " 'sad joke worthless',\n",
       " 'entertain',\n",
       " 'veri good qualiti',\n",
       " 'work great sound great doe not miss a beat wish it had a batteri for better portabl',\n",
       " 'love it till someon stole it can t afford to replac it yet but i am go too',\n",
       " 'alexa rock',\n",
       " 'got thi as a gift and love it i never would have bought one for myself but now that i have it allow me to play music on it from my amozon prime music that s worth it in and of itself also give new s brief and tell joke',\n",
       " '',\n",
       " 'my mom bought a few echo dot and repeat ask me to take one of her becaus it wa so great i told her no for two day when she made me take it hour later i could not live my life without it it s that amaz so now we have four larg speaker and onli the small echo dot that i will be return to her i say if you re go to order an alexa speaker go big and get the echo otherwis tou ll be return the two echo dot you couldn t live without',\n",
       " 'love it great product',\n",
       " 'easi set up veri user friendli',\n",
       " 'realli disappoint alexa ha to be plug in to wall socket all the time my fault for not check thi but made the assumpt that a compani ha technolog advanc as amazon would sell thi product with a recharg batteri if i could return it i would as my appl music and boom speaker give me more flexibl the alexa',\n",
       " 'i don t think the nd gen sound as good as the st but it doe have an aux out so you could add an extern speaker but if you are go to do that whi wouldn t you just get a dot nd issu is which isn t uniqu to thi unit but i don t understand whi i can t overrid the default that prevent you from play a blue tooth speaker while play through a group i get there is a delay when use a bt speaker but if the other unit are not where they can be heard then i should be abl to play as a group while use the bt speaker',\n",
       " 'everyth',\n",
       " 'i like the interact of ask question i don t like that i can t ask her to setup schedul of off and on of connect lamp',\n",
       " 'supberb sound definit worth the extra money if you listen to lot of music',\n",
       " 'i realli love my amazon echo i think the sound qualiti is great and we have a lot of fun with it it is realli handi for music and to get updat on the weather and sport',\n",
       " 'love it so do the grandkid',\n",
       " 'so far it ha work well not alway intuit as to how to link differ devic or skill but get the hang of it',\n",
       " 'work as advertis',\n",
       " 'i love it',\n",
       " 'love my new addit to the hous speaker qualiti is great and over all we love our alexa my onli two not complaint more suggest for the futur seri would be better commun abil exampl for our smart light in the hous unless we specifi kitchen light or kitchen light prior to the command she either won t respond or say she doesn t recogn it may be me but i want my alexa to respond when i say thank you afterward i have to repeat alexa thank you and there are time she won t respond to me but will my husband i know it sound odd we laugh about it but mayb it s a southern thing but i want my alexa to have manner too',\n",
       " 'like everyth about it the music the trivia game the weather',\n",
       " 'as describ and receiv on time do not like automat enrol into music',\n",
       " 'a great devic',\n",
       " 'i own an echo for overa year but the new lack the easi way to increas or decreas volum without tell it to increas or decreas volum which is hard to do for my wife sinc english is her second languag she wa born in korea but the sound from the echo is superb so we ll keep it',\n",
       " 'love thi have it in the kitchen and work well',\n",
       " 'veri nice i m impress wish she had more to say though',\n",
       " 'love the product nice to have easi access to so much info',\n",
       " 'it s got great sound and bass but it doesn t work all of the time it still hot or miss when it recogn thing',\n",
       " 'we are still discov all that the echo can do',\n",
       " 'amaz paroduct',\n",
       " 'good hear rang and sound qualiti it wa a bit complic to set up and she doesn t quit understand me a lot even when i am speak slowli and clearli but i love the flash brief featur and interfac with my abod home secur system',\n",
       " 'speaker sound good',\n",
       " 'absolut love',\n",
       " 'the best part of thi product is you can control the thermostat and light for your hous there isn t anyth i dislik',\n",
       " 'we re thoroughli enjoy our amazon echo instal wa easi use the alexa app i purchas kasa smart plug to control our live room light instal again wa easi use the kasa app they sinqu right up with the echo we re enjoy play music with the echo and the sound qualiti is awesom we ve ad a kasa smart bulb for our kitchen setup wa seamless we re look forward to ad more autom to our home',\n",
       " 'home entertain',\n",
       " 'veri cool product easi to setup fun to use and sound qualiti is much better than i anticip',\n",
       " 'love these great sound easi to connect and use',\n",
       " 'doesn t work with my fairli new smart tv but that s mainli the tv manufactur lg fault due to not support anyth older than tv from thi year my smart lock also need an addit piec of equip in order to connect as well speaker sound great and work veri well',\n",
       " 'great sound from a littl speaker',\n",
       " 'we enjoy it',\n",
       " '',\n",
       " 'cool',\n",
       " 'good qualiti great sound qualiti',\n",
       " 'work perfectli',\n",
       " 'great product sometim alexa doe not understand some command for my fire tv all in all thi is a fabul speaker',\n",
       " 'love my echo great sound veri smart',\n",
       " 'sure did love it',\n",
       " 'play great',\n",
       " 'work absolut great',\n",
       " 'veri amaz product great sound qualiti',\n",
       " 'best thing i ve invest in in a while thank you so much',\n",
       " 'i am extrem impress with thi item bought it from the warehous or outlet with a minor imperfect can t tell it even ha one work great didn t come in packag but it wa seal up and had no damag and wasn t miss anyth i like the sound qualiti i see some knock it it s not a bose but it s more than great for our famili easi to use minor learn curv as it learn your voic it integr seamlessli with my other amazon servic can t wait to get for my classroom too it s a lot of fun even just as a speaker let alon what i plan to do with it',\n",
       " 'i love my echo show and now i have thi in my bedroom and it s wonder music info sleep sound',\n",
       " 'awesom life changer serious i am abl to start my morn with alexa by have her wake me up with her alarm and then play me some music she ha gotten use to my voic that i can be in anoth room and she will listen to what i say i love both my echo don t hesit get one and for the price the speaker is unbeliev i am buy the cordless holder so i can take the echo anywher love my purchas and love alexa',\n",
       " 'i am not super impress with alexa when my prime laps she wouldn t play anyth she isn t smart enough to differenti among spotifi account so we can t use it for that either she randomli speak up when nobodi is talk to her just today i unplug her not sure i ll ever use my alexa again',\n",
       " 'i like everyth about it',\n",
       " 'like',\n",
       " 'never had ani issu with buy use electron as long as i get the good or like new just read the comment to see whi it is use',\n",
       " 'our famili realli love thi new echo',\n",
       " 'bought for my wife she love it',\n",
       " 'fun just got it today now my i pod will go in my car and i will use thi is the hous',\n",
       " 'like it to do more',\n",
       " 'thi is our third echo worth everi penni it s like have household employe for a small flat rate we keep them in the bedroom and the live room we can drop in and use them as an intercom listen to music answer quick question alarm to wake up for school etc',\n",
       " 'listen music and set timer',\n",
       " 'i receiv the echo in perfect condit the devic wa easi to set up and respond quickli and without ani issu alexa is a great addit to our famili',\n",
       " 'good sound like it for music and schedul like that i can get random thought record while i think about them the joke are cute',\n",
       " 'purchas thi for myself and am just begin to learn all that it can do so far am veri pleas and amaz at the differ action it can perform am enjoy it and look forward to learn more about other option it provid',\n",
       " 'thi echo is just as great as my other even though it is smaller',\n",
       " 'funni how you buy someth just becaus it look fun and it wind up be a total use part of your home love it',\n",
       " 'i bought thi to replac a dot in my live room speaker is slightli better it hear me better over the tv unfortun it doesn t understand or respond to my request as well as the dot i frequent have to request or time to get it to do what i want the dot usual doe exactli what i want on the first request i don t consid it an upgrad',\n",
       " 'i have had all good experi so far with the second gener echo there are so mani more thing to learn but i have not had the time yet right now i am mostli enjoy the music weather updat use the alarm featur and her person i have also purchas some mini smart socket ye i am veri excit to begin use them',\n",
       " 'i m have troubl connect my tv to it but i m not exactli tech smart i m sure one of my grandson will figur it out for me so far i ve been use it mostli for music',\n",
       " 'simpli love my echo i hardli watch ani tv at all anymor i m too busi listen to music speaker is pretti goo for it size all the fun skill realli make the echo fun for my whole famili',\n",
       " 'enjoy entir echo experi',\n",
       " 'easi to set up',\n",
       " 'the echo is an amaz devic mani time it seem veri intuit but at other time i ask for someth that seem clear and simpl and get no result instal wa fairli straightforward but i mess up sever time simpli becaus i thought a step wa complet when it wasn t thi actual made me lose ground until i figur that out my advic is to be patient the app will let you know when you can move on to the next step my biggest issu of the moment is that we have sever echo devic in our home and i would like to use them as intercom which i am told can be done howev i can t make ani of the echo awar of the other exist when i ask alexa how to do thi she answer about instruct how to chang her name i know thi is like my fault but i would think the design would anticip thi and make it easier to find the need instruct a small deal for mani devic savvi peopl but a challeng for me',\n",
       " 'we are love our veri much',\n",
       " 'i have the origin alexa and the tap and so far the nd gener is the best i m happi to see they are make improv with each new one it would be great to have updat to our littl a i s i think it would help out a lot with the bug in it all in all i am veri happi with her and i can now play music throughout the whole hous and adjust the bass and trebl thank you',\n",
       " 'veri pleas with the echo nd gener it is so nice to have alexa avail for music weather news and probabl a lot more we haven t discov',\n",
       " 'i am pleasantli surpris by the sound qualiti of the echo if you are a big fan of deep bass thi might not be suffici for you though the potenti to control your home is an option i will explor more as i evolv my home into a smart home the voic recognit is veri impress it is stylish and fun i have no regret with thi purchas it is great for technic chang peopl ask it to play a song or a movi and it respond instantli if you have an elderli love one thi would be a great gift onc connect to wifi it is veri simpl to use if you want unlimit music control be sure to have amazon prime or premium spotifi and you will be blown away with your person dj you can even have convers with the echo i am not embarrass to say that echo ha made me laugh a coupl time when i ask it to tell me a joke it tell me where my packag are sinc i am an amazon prime addict it come in extrem handi',\n",
       " 'easi to setup love all the thing she doe',\n",
       " 'have alexa throughout the hous the futur ha arriv',\n",
       " 'i alreadi have an alexa and with amazon find today i could not resist get an echo also it is the best thing i ever did i use them on each side of the hous and couldn t be happier',\n",
       " 'arriv as expect',\n",
       " 'bought thi a few week ago everyth about thi product is excel don t forget to buy a charger when order it s a must have to take outsid by the pool and not have to worri about hire an electrician to put in outlet all over the yard',\n",
       " 'terrif',\n",
       " 'love my echo',\n",
       " 'it s smaller than the origin look nicer too',\n",
       " 'work great',\n",
       " 'my husband and i are what i would call late adopt when it come to technolog but we decid we would tri and echo to serv primarili as a music sourc wow were we amaz and the great sound we ve also been have a great time listen to all of our favorit song buy just ask alexa i may even buy one for my elderli dad i think he will enjoy have one to listen to music or even place hi call to us',\n",
       " 'i realli have enjoy it chang the directv channel play iheartradio and pandora adjust the ac thermostat and turn the live room light and outsid light',\n",
       " 'i have been want one of these for a while now bought on prime day and absolut love it',\n",
       " 'we are so glad that we got the echo over a bluetooth speaker alexa doe so much more stuff than other non smart speaker out there i person love the timer featur it ha help me with cook multipl thing simultan pandora integr is anoth featur that i use daili so happi with out prime day purchas i will get the echo hub and a few more echo dot in the futur',\n",
       " 'see subject line love it',\n",
       " 'love it',\n",
       " 'veri easi setup',\n",
       " 'i wa hesit to buy the echo becaus i have the echo dot and it seem good enough the echo is the same except the sound qualiti which i realli didn t feel i need howev i am so glad i got it what a differ the sound realli is far superior to the echo dot now i can listen to the greatest showman with a littl more power',\n",
       " 'sound qualiti is great still learn about all the differ thing i can do with it fun',\n",
       " 'got a good deal and work great with prime setup wa a bit of a pain but more the fault of crappi internet servic ha work great with nice sound from small speaker',\n",
       " 'i love it',\n",
       " 'work great perfect for my offic',\n",
       " 'love it have one insid hous and one by our pool now just as good as bose speaker around hous',\n",
       " 'easi to use amaz',\n",
       " 'nice product a',\n",
       " 'we love our echo we were total amaz at the speaker qualiti onli bum we didn t buy two sinc we got it on prime day',\n",
       " 'veri respons great sound qualiti for it size',\n",
       " 'it s so effici and amaz how cool we all use it often everi day',\n",
       " 'i m impress with the qualiti of sound that the echo ha it s definit compar to my bose mini i onli gave star becaus i can t use my appl music account',\n",
       " 'technolog in such a small devic the price wa good too the sound is amaz a must have featur for ani home',\n",
       " 'mainli use it for the music but i m learn more all the time realli noth bad to say about it',\n",
       " 'i replac my st gen wa concern about a smaller unit not have the same sound i wa wrong if anyth it s the same volum and more clear good product',\n",
       " 'great addit to my echo plu',\n",
       " 'the best',\n",
       " 'love the featur to play music in everi room with multipl echo',\n",
       " 'i love alexa i am surpris how much i use her',\n",
       " 'i use thi product for enjoy and i just love it',\n",
       " 'easi to use and ha great sound it wa a great purchas at a great price',\n",
       " 'veri easi to set up and have no issu',\n",
       " 'thi unit add much pleasur to our echo plu we now can have music and inform through our home or just in one room',\n",
       " 'it s extrem use in simpl thing like spotifi and audibl and thing like that but sometim it doesn t answer everyth i ask but it s still nice to use',\n",
       " 'too difficult to set up it keep time out befor you can enter the password',\n",
       " 'just get use to use the echo use it for shop list listen to music and as a timer work great so far',\n",
       " 'veri cool and lot of fun use for a week and still learn it capabl',\n",
       " 'love it love it',\n",
       " 'love it but have a hard time set up all the app',\n",
       " 'i use it in my offic and anoth at my apart for music and inform',\n",
       " ...]"
      ]
     },
     "execution_count": 37,
     "metadata": {},
     "output_type": "execute_result"
    }
   ],
   "source": [
    "corpus"
   ]
  },
  {
   "cell_type": "code",
   "execution_count": 38,
   "id": "1697a704",
   "metadata": {},
   "outputs": [
    {
     "name": "stdout",
     "output_type": "stream",
     "text": [
      "(3150, 2500)\n",
      "(3150,)\n"
     ]
    }
   ],
   "source": [
    "from sklearn.feature_extraction.text import CountVectorizer\n",
    "\n",
    "cv = CountVectorizer(max_features = 2500)\n",
    "\n",
    "x = cv.fit_transform(corpus).toarray()\n",
    "\n",
    "y = data.iloc[:, 4].values\n",
    "\n",
    "print(x.shape)\n",
    "print(y.shape)"
   ]
  },
  {
   "cell_type": "code",
   "execution_count": 39,
   "id": "79a0c407",
   "metadata": {},
   "outputs": [
    {
     "name": "stdout",
     "output_type": "stream",
     "text": [
      "(2205, 2500)\n",
      "(2205,)\n",
      "(945, 2500)\n",
      "(945,)\n"
     ]
    }
   ],
   "source": [
    "from sklearn.model_selection import train_test_split\n",
    "\n",
    "x_train, x_test, y_train, y_test = train_test_split(x, y, test_size = 0.3, random_state = 15)\n",
    "\n",
    "print(x_train.shape)\n",
    "print(y_train.shape)\n",
    "print(x_test.shape)\n",
    "print(y_test.shape)"
   ]
  },
  {
   "cell_type": "markdown",
   "id": "71c5f9b4",
   "metadata": {},
   "source": [
    "# LogisticRegression"
   ]
  },
  {
   "cell_type": "code",
   "execution_count": 40,
   "id": "ebc2ff0c",
   "metadata": {},
   "outputs": [],
   "source": [
    "from sklearn.linear_model import LogisticRegression\n",
    "from sklearn.metrics import accuracy_score"
   ]
  },
  {
   "cell_type": "code",
   "execution_count": 41,
   "id": "22461884",
   "metadata": {},
   "outputs": [
    {
     "data": {
      "text/plain": [
       "LogisticRegression()"
      ]
     },
     "execution_count": 41,
     "metadata": {},
     "output_type": "execute_result"
    }
   ],
   "source": [
    "model = LogisticRegression()\n",
    "model.fit(x_train, y_train)"
   ]
  },
  {
   "cell_type": "code",
   "execution_count": 42,
   "id": "c61ab17f",
   "metadata": {},
   "outputs": [],
   "source": [
    "y_pred = model.predict(x_test)"
   ]
  },
  {
   "cell_type": "code",
   "execution_count": 43,
   "id": "82953387",
   "metadata": {},
   "outputs": [
    {
     "name": "stdout",
     "output_type": "stream",
     "text": [
      "Accuracy 94.39153439153439 %\n"
     ]
    }
   ],
   "source": [
    "from sklearn.metrics import confusion_matrix, classification_report\n",
    "\n",
    "print('Accuracy {} %'.format( 100 * accuracy_score(y_test, y_pred)))"
   ]
  },
  {
   "cell_type": "code",
   "execution_count": 44,
   "id": "31789651",
   "metadata": {},
   "outputs": [
    {
     "data": {
      "text/plain": [
       "array([[ 34,  12],\n",
       "       [ 41, 858]], dtype=int64)"
      ]
     },
     "execution_count": 44,
     "metadata": {},
     "output_type": "execute_result"
    }
   ],
   "source": [
    "cm = confusion_matrix(y_pred, y_test)\n",
    "cm"
   ]
  },
  {
   "cell_type": "code",
   "execution_count": 45,
   "id": "8788d251",
   "metadata": {},
   "outputs": [
    {
     "name": "stdout",
     "output_type": "stream",
     "text": [
      "              precision    recall  f1-score   support\n",
      "\n",
      "           0       0.74      0.45      0.56        75\n",
      "           1       0.95      0.99      0.97       870\n",
      "\n",
      "    accuracy                           0.94       945\n",
      "   macro avg       0.85      0.72      0.77       945\n",
      "weighted avg       0.94      0.94      0.94       945\n",
      "\n"
     ]
    }
   ],
   "source": [
    "print(classification_report(y_test, y_pred))"
   ]
  },
  {
   "cell_type": "code",
   "execution_count": 46,
   "id": "80e9c26b",
   "metadata": {},
   "outputs": [
    {
     "data": {
      "text/plain": [
       "array([1, 1, 1, 1, 1, 1, 1, 0, 1, 1, 1, 1, 1, 1, 1, 0, 1, 1, 1, 1, 1, 0,\n",
       "       1, 1, 1, 1, 1, 1, 1, 1, 1, 1, 0, 1, 1, 1, 1, 1, 1, 1, 1, 1, 1, 1,\n",
       "       1, 1, 1, 1, 1, 1, 1, 1, 1, 1, 1, 1, 1, 1, 1, 1, 1, 1, 1, 0, 1, 1,\n",
       "       0, 1, 1, 1, 0, 1, 1, 1, 1, 1, 1, 1, 1, 1, 1, 1, 1, 1, 1, 1, 1, 1,\n",
       "       1, 1, 1, 1, 1, 1, 1, 1, 1, 1, 1, 1, 1, 1, 1, 1, 1, 1, 1, 1, 1, 1,\n",
       "       1, 1, 1, 1, 1, 1, 1, 1, 1, 1, 1, 1, 1, 1, 1, 1, 1, 1, 1, 1, 1, 1,\n",
       "       1, 1, 1, 1, 1, 1, 0, 1, 1, 1, 1, 1, 1, 1, 1, 1, 1, 1, 1, 1, 1, 1,\n",
       "       1, 1, 0, 1, 0, 1, 1, 1, 1, 1, 1, 1, 1, 1, 1, 1, 1, 1, 1, 1, 1, 1,\n",
       "       1, 0, 1, 1, 1, 1, 1, 1, 1, 1, 1, 1, 1, 1, 1, 1, 1, 1, 0, 1, 1, 1,\n",
       "       1, 1, 1, 1, 1, 1, 1, 1, 1, 1, 1, 1, 1, 1, 1, 1, 1, 1, 1, 0, 1, 1,\n",
       "       1, 1, 1, 1, 1, 1, 1, 1, 1, 1, 1, 1, 1, 1, 0, 1, 1, 1, 1, 0, 1, 1,\n",
       "       1, 1, 1, 1, 1, 1, 0, 1, 1, 1, 1, 1, 1, 1, 1, 1, 1, 1, 1, 1, 1, 1,\n",
       "       1, 1, 1, 1, 0, 1, 1, 0, 1, 1, 1, 1, 1, 1, 1, 1, 1, 1, 1, 1, 1, 0,\n",
       "       1, 1, 1, 1, 1, 1, 0, 1, 1, 1, 1, 1, 1, 1, 1, 1, 1, 1, 1, 1, 1, 1,\n",
       "       1, 1, 1, 1, 1, 1, 1, 1, 1, 1, 1, 1, 1, 1, 1, 1, 1, 0, 1, 1, 1, 1,\n",
       "       1, 1, 1, 1, 1, 1, 1, 1, 1, 1, 1, 1, 1, 1, 1, 1, 1, 1, 1, 1, 1, 1,\n",
       "       1, 1, 1, 1, 1, 1, 1, 1, 1, 1, 1, 1, 1, 1, 1, 1, 1, 1, 1, 1, 1, 1,\n",
       "       1, 1, 1, 1, 1, 1, 1, 1, 1, 1, 1, 1, 1, 1, 0, 1, 1, 1, 1, 1, 0, 1,\n",
       "       0, 1, 1, 1, 1, 1, 1, 1, 1, 1, 1, 1, 1, 1, 1, 1, 1, 1, 1, 1, 1, 1,\n",
       "       1, 1, 1, 1, 1, 0, 1, 1, 1, 1, 0, 1, 1, 1, 1, 0, 1, 1, 0, 1, 1, 1,\n",
       "       1, 1, 1, 1, 1, 1, 1, 1, 1, 1, 1, 1, 1, 1, 1, 1, 1, 0, 1, 1, 1, 1,\n",
       "       1, 1, 1, 1, 1, 1, 1, 1, 1, 1, 1, 1, 1, 1, 1, 1, 1, 1, 1, 1, 1, 1,\n",
       "       1, 1, 1, 1, 1, 1, 1, 1, 1, 1, 1, 1, 1, 1, 1, 1, 1, 1, 1, 1, 1, 1,\n",
       "       0, 1, 1, 1, 1, 1, 0, 1, 1, 1, 1, 1, 1, 1, 1, 1, 1, 1, 1, 1, 1, 1,\n",
       "       1, 1, 1, 1, 1, 1, 1, 1, 1, 1, 1, 1, 1, 1, 1, 0, 1, 1, 1, 1, 1, 1,\n",
       "       1, 1, 1, 1, 1, 1, 1, 1, 1, 1, 1, 1, 1, 1, 1, 1, 1, 1, 1, 1, 1, 1,\n",
       "       1, 1, 1, 1, 1, 1, 1, 1, 1, 1, 1, 1, 1, 1, 1, 1, 1, 1, 1, 1, 1, 1,\n",
       "       1, 1, 1, 1, 1, 1, 1, 1, 1, 1, 1, 1, 1, 1, 1, 1, 1, 1, 1, 0, 1, 1,\n",
       "       1, 1, 1, 1, 1, 1, 1, 1, 1, 1, 1, 1, 1, 1, 1, 1, 1, 1, 1, 1, 1, 1,\n",
       "       1, 1, 1, 1, 1, 1, 1, 1, 1, 1, 1, 1, 1, 1, 1, 1, 1, 1, 1, 1, 1, 1,\n",
       "       1, 1, 1, 1, 1, 1, 1, 1, 1, 1, 1, 1, 0, 1, 0, 1, 1, 1, 1, 1, 1, 1,\n",
       "       1, 1, 1, 1, 1, 1, 1, 1, 1, 1, 1, 1, 1, 1, 1, 1, 1, 1, 1, 1, 1, 1,\n",
       "       1, 1, 1, 1, 1, 1, 1, 1, 1, 1, 1, 1, 0, 1, 1, 0, 1, 1, 1, 1, 1, 1,\n",
       "       1, 1, 1, 1, 1, 1, 1, 1, 1, 1, 1, 1, 1, 1, 1, 1, 1, 1, 1, 1, 1, 1,\n",
       "       0, 1, 1, 1, 1, 1, 1, 1, 1, 1, 1, 1, 1, 1, 1, 1, 1, 1, 1, 1, 1, 1,\n",
       "       1, 1, 1, 1, 1, 1, 1, 1, 1, 1, 1, 1, 1, 1, 1, 1, 1, 1, 1, 1, 1, 1,\n",
       "       1, 1, 1, 1, 1, 1, 1, 1, 1, 1, 1, 1, 0, 1, 1, 1, 1, 1, 1, 1, 1, 1,\n",
       "       1, 1, 0, 1, 1, 1, 1, 1, 1, 1, 1, 1, 1, 1, 1, 1, 1, 1, 1, 1, 1, 1,\n",
       "       1, 1, 1, 1, 1, 1, 1, 1, 1, 1, 1, 1, 1, 1, 1, 1, 0, 1, 1, 1, 1, 1,\n",
       "       1, 1, 1, 1, 1, 1, 1, 1, 1, 1, 1, 1, 1, 1, 1, 1, 1, 1, 1, 1, 1, 1,\n",
       "       1, 1, 1, 1, 1, 1, 1, 1, 0, 1, 1, 1, 1, 1, 1, 0, 1, 1, 1, 1, 1, 1,\n",
       "       1, 1, 1, 1, 1, 1, 1, 1, 1, 1, 1, 0, 0, 1, 1, 1, 1, 1, 0, 1, 1, 1,\n",
       "       1, 1, 1, 1, 1, 1, 1, 1, 1, 1, 1, 1, 1, 1, 1, 1, 1, 1, 1, 1, 1],\n",
       "      dtype=int64)"
      ]
     },
     "execution_count": 46,
     "metadata": {},
     "output_type": "execute_result"
    }
   ],
   "source": [
    "y_pred"
   ]
  },
  {
   "cell_type": "markdown",
   "id": "3e3f5e9d",
   "metadata": {},
   "source": [
    "# Navie Bayes"
   ]
  },
  {
   "cell_type": "code",
   "execution_count": 47,
   "id": "c31738ea",
   "metadata": {},
   "outputs": [
    {
     "data": {
      "text/plain": [
       "MultinomialNB()"
      ]
     },
     "execution_count": 47,
     "metadata": {},
     "output_type": "execute_result"
    }
   ],
   "source": [
    "from sklearn.naive_bayes import MultinomialNB\n",
    "\n",
    "NB_classifier = MultinomialNB()\n",
    "NB_classifier.fit(x_train, y_train)"
   ]
  },
  {
   "cell_type": "code",
   "execution_count": 48,
   "id": "ae8c2994",
   "metadata": {},
   "outputs": [
    {
     "data": {
      "text/plain": [
       "array([[ 107,   75],\n",
       "       [  16, 2007]], dtype=int64)"
      ]
     },
     "execution_count": 48,
     "metadata": {},
     "output_type": "execute_result"
    }
   ],
   "source": [
    "y_predict_train = NB_classifier.predict(x_train)\n",
    "y_predict_train\n",
    "cm = confusion_matrix(y_train, y_predict_train)\n",
    "cm"
   ]
  },
  {
   "cell_type": "code",
   "execution_count": 49,
   "id": "c75aa272",
   "metadata": {},
   "outputs": [
    {
     "data": {
      "text/plain": [
       "array([[ 29,  46],\n",
       "       [ 15, 855]], dtype=int64)"
      ]
     },
     "execution_count": 49,
     "metadata": {},
     "output_type": "execute_result"
    }
   ],
   "source": [
    "y_predict_test = NB_classifier.predict(x_test)\n",
    "cm = confusion_matrix(y_test, y_predict_test)\n",
    "cm"
   ]
  },
  {
   "cell_type": "code",
   "execution_count": 50,
   "id": "122ce355",
   "metadata": {},
   "outputs": [
    {
     "name": "stdout",
     "output_type": "stream",
     "text": [
      "              precision    recall  f1-score   support\n",
      "\n",
      "           0       0.66      0.39      0.49        75\n",
      "           1       0.95      0.98      0.97       870\n",
      "\n",
      "    accuracy                           0.94       945\n",
      "   macro avg       0.80      0.68      0.73       945\n",
      "weighted avg       0.93      0.94      0.93       945\n",
      "\n"
     ]
    }
   ],
   "source": [
    "print(classification_report(y_test, y_predict_test))"
   ]
  },
  {
   "cell_type": "code",
   "execution_count": 51,
   "id": "4fdefca9",
   "metadata": {},
   "outputs": [
    {
     "name": "stdout",
     "output_type": "stream",
     "text": [
      "Accuracy 93.54497354497354 %\n"
     ]
    }
   ],
   "source": [
    "print('Accuracy {} %'.format( 100 * accuracy_score(y_test, y_predict_test)))"
   ]
  },
  {
   "cell_type": "code",
   "execution_count": 52,
   "id": "d759c0cb",
   "metadata": {},
   "outputs": [
    {
     "data": {
      "text/plain": [
       "array([1, 1, 1, 1, 1, 1, 1, 0, 1, 0, 1, 1, 1, 1, 1, 0, 1, 1, 1, 1, 1, 0,\n",
       "       1, 1, 1, 1, 1, 0, 0, 1, 1, 1, 1, 1, 1, 1, 0, 1, 1, 1, 1, 1, 1, 1,\n",
       "       1, 1, 1, 1, 1, 1, 1, 1, 1, 1, 1, 1, 1, 1, 1, 1, 1, 1, 1, 1, 1, 1,\n",
       "       0, 1, 1, 1, 1, 1, 1, 1, 1, 1, 1, 1, 1, 1, 1, 1, 1, 1, 1, 1, 1, 1,\n",
       "       1, 1, 1, 1, 1, 1, 1, 1, 1, 1, 1, 1, 1, 1, 1, 1, 1, 1, 1, 1, 1, 1,\n",
       "       1, 1, 1, 1, 1, 1, 1, 1, 1, 1, 1, 1, 1, 1, 1, 1, 1, 1, 1, 1, 1, 1,\n",
       "       1, 1, 1, 1, 1, 1, 1, 1, 1, 1, 1, 1, 1, 1, 1, 1, 1, 1, 1, 1, 1, 1,\n",
       "       1, 1, 0, 1, 1, 1, 1, 1, 0, 1, 1, 1, 1, 1, 1, 1, 1, 1, 1, 1, 1, 1,\n",
       "       1, 0, 1, 1, 1, 1, 1, 1, 1, 1, 1, 1, 1, 1, 1, 1, 1, 1, 1, 1, 1, 1,\n",
       "       1, 1, 1, 1, 1, 1, 1, 1, 0, 1, 1, 1, 1, 1, 1, 1, 1, 1, 1, 1, 1, 1,\n",
       "       1, 1, 1, 1, 1, 1, 1, 1, 1, 1, 1, 1, 1, 1, 0, 1, 1, 1, 1, 0, 1, 1,\n",
       "       1, 1, 1, 1, 1, 1, 0, 1, 1, 1, 1, 1, 1, 1, 1, 1, 1, 1, 1, 1, 1, 1,\n",
       "       1, 1, 1, 1, 0, 1, 1, 1, 1, 1, 1, 1, 1, 0, 1, 1, 1, 1, 1, 1, 1, 1,\n",
       "       1, 1, 1, 1, 1, 1, 0, 1, 1, 1, 1, 1, 1, 1, 1, 1, 1, 1, 1, 1, 1, 1,\n",
       "       1, 1, 1, 1, 1, 1, 1, 1, 1, 1, 1, 0, 1, 1, 1, 1, 1, 0, 1, 1, 1, 1,\n",
       "       1, 1, 1, 1, 1, 1, 1, 1, 1, 1, 1, 1, 1, 1, 1, 1, 1, 1, 1, 1, 1, 1,\n",
       "       1, 1, 1, 1, 1, 1, 1, 1, 1, 1, 1, 1, 1, 1, 1, 1, 1, 1, 1, 1, 1, 1,\n",
       "       1, 1, 1, 1, 1, 0, 1, 1, 1, 1, 1, 1, 1, 1, 0, 1, 1, 1, 1, 1, 1, 1,\n",
       "       0, 1, 1, 1, 1, 1, 1, 1, 0, 1, 1, 1, 1, 0, 1, 1, 1, 1, 1, 1, 1, 1,\n",
       "       1, 1, 1, 1, 1, 0, 1, 1, 1, 1, 0, 1, 1, 1, 1, 1, 1, 1, 1, 1, 1, 1,\n",
       "       1, 1, 1, 1, 1, 1, 1, 1, 1, 1, 0, 1, 1, 1, 1, 1, 1, 1, 1, 1, 1, 1,\n",
       "       1, 1, 1, 1, 1, 1, 1, 1, 1, 1, 1, 1, 1, 1, 1, 1, 1, 1, 1, 1, 1, 1,\n",
       "       1, 1, 1, 1, 1, 1, 1, 1, 1, 1, 1, 1, 1, 1, 1, 1, 1, 0, 1, 1, 1, 1,\n",
       "       1, 1, 1, 1, 1, 1, 1, 1, 1, 1, 1, 1, 1, 1, 1, 1, 1, 1, 1, 1, 1, 1,\n",
       "       1, 1, 1, 1, 1, 1, 1, 1, 1, 1, 1, 1, 1, 1, 1, 1, 1, 1, 1, 1, 1, 1,\n",
       "       1, 1, 1, 1, 1, 1, 1, 1, 1, 1, 1, 1, 1, 1, 1, 1, 1, 1, 1, 1, 1, 1,\n",
       "       1, 1, 1, 1, 1, 1, 0, 1, 1, 1, 1, 1, 1, 1, 1, 1, 1, 1, 1, 1, 1, 1,\n",
       "       1, 1, 1, 1, 1, 1, 1, 1, 1, 1, 1, 1, 1, 1, 1, 1, 1, 1, 1, 1, 1, 1,\n",
       "       1, 1, 1, 1, 1, 1, 1, 1, 1, 1, 1, 1, 1, 1, 1, 1, 1, 1, 1, 1, 1, 1,\n",
       "       1, 1, 1, 1, 1, 1, 1, 1, 1, 1, 1, 1, 1, 1, 1, 1, 1, 1, 1, 1, 1, 1,\n",
       "       1, 1, 1, 1, 1, 1, 1, 1, 0, 1, 1, 1, 0, 1, 1, 1, 1, 1, 1, 1, 1, 1,\n",
       "       0, 1, 1, 1, 1, 1, 1, 1, 1, 1, 1, 1, 1, 1, 1, 1, 1, 1, 1, 1, 1, 1,\n",
       "       1, 1, 1, 1, 1, 1, 1, 1, 1, 1, 1, 1, 1, 1, 1, 0, 1, 1, 1, 1, 1, 1,\n",
       "       1, 1, 1, 1, 1, 1, 1, 1, 1, 1, 1, 1, 1, 1, 1, 1, 1, 1, 1, 1, 1, 1,\n",
       "       0, 1, 1, 1, 1, 1, 1, 1, 1, 1, 1, 1, 1, 1, 1, 1, 1, 1, 1, 1, 1, 1,\n",
       "       0, 1, 1, 1, 1, 1, 1, 1, 1, 1, 1, 1, 1, 1, 1, 1, 1, 1, 1, 1, 1, 1,\n",
       "       1, 1, 1, 1, 1, 1, 1, 1, 1, 1, 1, 1, 1, 1, 1, 1, 1, 1, 1, 1, 1, 1,\n",
       "       1, 1, 1, 1, 1, 1, 1, 1, 1, 1, 1, 1, 1, 1, 0, 1, 1, 1, 1, 1, 1, 1,\n",
       "       1, 1, 1, 1, 1, 1, 1, 1, 1, 1, 1, 1, 1, 1, 1, 1, 0, 1, 1, 1, 0, 1,\n",
       "       1, 1, 1, 1, 1, 1, 1, 1, 1, 1, 1, 1, 1, 1, 1, 1, 1, 1, 1, 1, 1, 1,\n",
       "       1, 1, 1, 1, 1, 1, 1, 1, 0, 1, 1, 1, 1, 1, 1, 0, 1, 1, 1, 1, 1, 1,\n",
       "       1, 1, 1, 1, 1, 1, 1, 1, 1, 1, 1, 0, 0, 1, 1, 1, 1, 1, 1, 1, 1, 1,\n",
       "       1, 1, 1, 1, 1, 1, 1, 0, 1, 1, 1, 1, 1, 1, 1, 1, 1, 1, 1, 1, 1],\n",
       "      dtype=int64)"
      ]
     },
     "execution_count": 52,
     "metadata": {},
     "output_type": "execute_result"
    }
   ],
   "source": [
    "y_predict_test"
   ]
  },
  {
   "cell_type": "markdown",
   "id": "741db1d5",
   "metadata": {},
   "source": [
    "# KNN classifier"
   ]
  },
  {
   "cell_type": "code",
   "execution_count": 53,
   "id": "7287568c",
   "metadata": {},
   "outputs": [],
   "source": [
    "from sklearn.neighbors import KNeighborsClassifier\n",
    "knn = KNeighborsClassifier(n_neighbors=3,leaf_size=25)"
   ]
  },
  {
   "cell_type": "code",
   "execution_count": 54,
   "id": "e7fa2a79",
   "metadata": {},
   "outputs": [],
   "source": [
    "knn.fit(x_train, y_train)\n",
    "y_pred_knn=knn.predict(x_test)"
   ]
  },
  {
   "cell_type": "code",
   "execution_count": 55,
   "id": "72988bec",
   "metadata": {},
   "outputs": [
    {
     "data": {
      "text/plain": [
       "array([[  3,  72],\n",
       "       [  2, 868]], dtype=int64)"
      ]
     },
     "execution_count": 55,
     "metadata": {},
     "output_type": "execute_result"
    }
   ],
   "source": [
    "cm = confusion_matrix(y_test, y_pred_knn)\n",
    "cm"
   ]
  },
  {
   "cell_type": "code",
   "execution_count": 56,
   "id": "e469b71a",
   "metadata": {},
   "outputs": [
    {
     "name": "stdout",
     "output_type": "stream",
     "text": [
      "              precision    recall  f1-score   support\n",
      "\n",
      "           0       0.66      0.39      0.49        75\n",
      "           1       0.95      0.98      0.97       870\n",
      "\n",
      "    accuracy                           0.94       945\n",
      "   macro avg       0.80      0.68      0.73       945\n",
      "weighted avg       0.93      0.94      0.93       945\n",
      "\n"
     ]
    }
   ],
   "source": [
    "print(classification_report(y_test, y_predict_test))"
   ]
  },
  {
   "cell_type": "code",
   "execution_count": 57,
   "id": "81e9b53e",
   "metadata": {},
   "outputs": [
    {
     "name": "stdout",
     "output_type": "stream",
     "text": [
      "Accuracy 95.02645502645503 %\n"
     ]
    }
   ],
   "source": [
    "print('Accuracy {} %'.format( 100 * accuracy_score(y_pred, y_pred_knn)))"
   ]
  },
  {
   "cell_type": "code",
   "execution_count": 58,
   "id": "3cc45f4a",
   "metadata": {},
   "outputs": [
    {
     "data": {
      "text/plain": [
       "array([1, 1, 1, 1, 1, 1, 1, 1, 1, 1, 1, 1, 1, 1, 1, 1, 1, 1, 1, 1, 1, 1,\n",
       "       1, 1, 1, 1, 1, 1, 1, 1, 1, 1, 1, 1, 1, 1, 1, 1, 1, 1, 1, 1, 1, 1,\n",
       "       1, 1, 1, 1, 1, 1, 1, 1, 1, 1, 1, 1, 1, 1, 1, 1, 1, 1, 1, 1, 1, 1,\n",
       "       1, 1, 1, 1, 1, 1, 1, 1, 1, 1, 1, 1, 1, 1, 1, 1, 1, 1, 1, 1, 1, 1,\n",
       "       1, 1, 1, 1, 1, 1, 1, 1, 1, 1, 1, 1, 1, 1, 1, 1, 1, 1, 1, 1, 1, 1,\n",
       "       1, 1, 1, 1, 1, 1, 1, 1, 1, 1, 1, 1, 1, 1, 1, 1, 1, 1, 1, 1, 1, 1,\n",
       "       1, 1, 1, 1, 1, 1, 1, 1, 1, 1, 1, 1, 1, 1, 1, 1, 1, 1, 1, 1, 1, 1,\n",
       "       1, 1, 1, 1, 1, 1, 1, 1, 1, 1, 1, 1, 1, 1, 1, 1, 1, 1, 1, 1, 1, 1,\n",
       "       1, 1, 1, 1, 1, 1, 1, 1, 1, 1, 1, 1, 1, 1, 1, 1, 1, 1, 1, 1, 1, 1,\n",
       "       1, 1, 1, 1, 1, 1, 1, 1, 1, 1, 1, 1, 1, 1, 1, 1, 1, 1, 1, 1, 1, 1,\n",
       "       1, 1, 1, 1, 1, 1, 1, 1, 1, 1, 1, 1, 1, 1, 1, 1, 1, 1, 1, 1, 1, 1,\n",
       "       1, 1, 1, 1, 1, 1, 1, 1, 1, 1, 1, 1, 1, 1, 1, 1, 1, 1, 1, 1, 1, 1,\n",
       "       1, 1, 1, 1, 1, 1, 1, 1, 1, 1, 1, 1, 1, 1, 1, 1, 1, 1, 1, 1, 1, 1,\n",
       "       1, 1, 1, 1, 1, 1, 1, 1, 1, 1, 1, 1, 1, 1, 1, 1, 1, 1, 1, 1, 1, 1,\n",
       "       1, 1, 1, 1, 1, 1, 1, 1, 1, 1, 1, 1, 1, 1, 1, 1, 1, 1, 1, 1, 1, 1,\n",
       "       1, 1, 1, 1, 1, 1, 1, 1, 1, 1, 1, 1, 1, 1, 1, 1, 1, 1, 1, 1, 1, 1,\n",
       "       1, 1, 1, 1, 1, 1, 1, 1, 1, 1, 1, 1, 1, 1, 1, 1, 1, 1, 1, 1, 1, 1,\n",
       "       1, 1, 1, 1, 1, 0, 1, 1, 1, 1, 1, 1, 1, 1, 1, 1, 1, 1, 1, 1, 1, 1,\n",
       "       1, 1, 1, 1, 1, 1, 1, 1, 1, 1, 1, 1, 1, 1, 1, 1, 1, 1, 1, 1, 1, 1,\n",
       "       1, 1, 1, 1, 1, 1, 1, 1, 1, 1, 0, 1, 1, 1, 1, 1, 1, 1, 1, 1, 1, 1,\n",
       "       1, 1, 1, 1, 1, 1, 1, 1, 1, 1, 1, 1, 1, 1, 1, 1, 1, 1, 1, 1, 1, 1,\n",
       "       1, 1, 1, 1, 1, 1, 1, 1, 1, 1, 1, 1, 1, 1, 1, 1, 1, 1, 1, 1, 1, 1,\n",
       "       1, 1, 1, 1, 1, 1, 1, 1, 1, 1, 1, 1, 1, 1, 1, 1, 1, 1, 1, 1, 1, 1,\n",
       "       1, 1, 1, 1, 1, 1, 1, 1, 1, 1, 1, 1, 1, 1, 1, 1, 1, 1, 1, 1, 1, 1,\n",
       "       1, 1, 1, 1, 1, 1, 1, 1, 1, 1, 1, 1, 1, 1, 1, 1, 1, 1, 1, 1, 1, 1,\n",
       "       1, 1, 1, 1, 1, 1, 1, 1, 1, 1, 1, 1, 1, 1, 1, 1, 1, 1, 1, 1, 1, 1,\n",
       "       1, 1, 1, 1, 1, 1, 1, 1, 1, 1, 1, 1, 1, 1, 1, 1, 1, 1, 1, 1, 1, 1,\n",
       "       1, 1, 1, 1, 1, 1, 1, 1, 1, 1, 1, 1, 1, 1, 1, 1, 1, 1, 1, 1, 1, 1,\n",
       "       1, 1, 1, 1, 1, 1, 1, 1, 1, 1, 1, 1, 1, 1, 1, 1, 1, 1, 1, 1, 1, 1,\n",
       "       1, 1, 1, 1, 1, 1, 1, 1, 1, 1, 1, 1, 1, 1, 1, 1, 1, 1, 1, 1, 1, 1,\n",
       "       1, 1, 1, 1, 1, 1, 1, 1, 1, 1, 1, 1, 1, 1, 1, 1, 1, 1, 1, 1, 1, 1,\n",
       "       1, 1, 1, 1, 1, 1, 1, 1, 1, 1, 1, 1, 1, 1, 1, 1, 1, 1, 1, 1, 1, 1,\n",
       "       1, 1, 1, 1, 0, 1, 1, 1, 1, 1, 1, 1, 1, 1, 1, 1, 1, 1, 1, 1, 1, 1,\n",
       "       1, 1, 1, 1, 1, 1, 1, 1, 1, 1, 1, 1, 1, 1, 1, 1, 1, 1, 1, 1, 1, 1,\n",
       "       1, 1, 1, 1, 1, 1, 1, 1, 1, 1, 1, 1, 1, 1, 1, 1, 1, 1, 1, 1, 1, 1,\n",
       "       1, 1, 1, 1, 1, 1, 1, 1, 1, 1, 1, 1, 1, 1, 1, 1, 1, 1, 1, 1, 1, 1,\n",
       "       1, 1, 1, 1, 1, 1, 1, 1, 1, 1, 1, 1, 1, 1, 1, 1, 1, 1, 1, 1, 1, 1,\n",
       "       1, 1, 1, 1, 1, 1, 1, 1, 1, 1, 1, 1, 1, 1, 1, 1, 1, 1, 1, 1, 1, 1,\n",
       "       1, 1, 1, 1, 1, 1, 1, 1, 1, 1, 1, 1, 1, 1, 1, 1, 1, 1, 1, 1, 1, 1,\n",
       "       1, 1, 1, 1, 1, 1, 1, 1, 1, 1, 1, 1, 1, 1, 1, 1, 1, 1, 1, 1, 1, 1,\n",
       "       1, 1, 1, 1, 1, 1, 1, 1, 0, 1, 1, 1, 1, 1, 1, 1, 1, 1, 1, 1, 1, 1,\n",
       "       1, 1, 1, 1, 1, 1, 1, 1, 1, 1, 1, 1, 1, 1, 0, 1, 1, 1, 1, 1, 1, 1,\n",
       "       1, 1, 1, 1, 1, 1, 1, 1, 1, 1, 1, 1, 1, 1, 1, 1, 1, 1, 1, 1, 1],\n",
       "      dtype=int64)"
      ]
     },
     "execution_count": 58,
     "metadata": {},
     "output_type": "execute_result"
    }
   ],
   "source": [
    "y_pred_knn"
   ]
  },
  {
   "cell_type": "markdown",
   "id": "2640da4e",
   "metadata": {},
   "source": [
    "# Conclusion"
   ]
  },
  {
   "cell_type": "markdown",
   "id": "85b580cd",
   "metadata": {},
   "source": [
    "# The Knn classifier is giving the best accuracy"
   ]
  }
 ],
 "metadata": {
  "kernelspec": {
   "display_name": "Python 3 (ipykernel)",
   "language": "python",
   "name": "python3"
  },
  "language_info": {
   "codemirror_mode": {
    "name": "ipython",
    "version": 3
   },
   "file_extension": ".py",
   "mimetype": "text/x-python",
   "name": "python",
   "nbconvert_exporter": "python",
   "pygments_lexer": "ipython3",
   "version": "3.9.12"
  }
 },
 "nbformat": 4,
 "nbformat_minor": 5
}
